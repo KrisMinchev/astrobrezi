{
 "cells": [
  {
   "cell_type": "markdown",
   "metadata": {},
   "source": [
    "Imports for the job."
   ]
  },
  {
   "cell_type": "code",
   "execution_count": 1,
   "metadata": {},
   "outputs": [],
   "source": [
    "# for fits file operations\n",
    "from astropy.io import fits\n",
    "# for working with file systems\n",
    "from pathlib import Path\n",
    "# for tesitng the result of our work\n",
    "from ccdproc import ImageFileCollection"
   ]
  },
  {
   "cell_type": "markdown",
   "metadata": {},
   "source": [
    "Specify the working directories. Create target if not already there."
   ]
  },
  {
   "cell_type": "code",
   "execution_count": 7,
   "metadata": {},
   "outputs": [],
   "source": [
    "# Raw data directory\n",
    "data_raw = Path('data')\n",
    "\n",
    "# Cleaned data target directory\n",
    "data_cleaned = Path('data-cleaned')\n",
    "# Make sure this directory exists; exist_ok means this line does nothing if\n",
    "# already created this folder.\n",
    "data_cleaned.mkdir(exist_ok=True)"
   ]
  },
  {
   "cell_type": "markdown",
   "metadata": {},
   "source": [
    "### Cleanup process.\n",
    "\n",
    "Here, it will be important how each file is called. Need to **EDIT** per the specific collection of images."
   ]
  },
  {
   "cell_type": "code",
   "execution_count": 9,
   "metadata": {},
   "outputs": [],
   "source": [
    "# Include image type in header for fits - useful for filtering during\n",
    "# processing. Save the modified files in a new directory called data-cleaned.\n",
    "\n",
    "#TODO generalise more e.g. provide a dictionary of (naming scheme, num images)\n",
    "\n",
    "num_dark5s = 5\n",
    "image_name_dark5s = ['DARK-5s-00{}.FIT'.format(x+1) for x in range(num_dark5s)]\n",
    "\n",
    "for i in range(num_dark5s):\n",
    "    with fits.open(data_raw / image_name_dark5s[i]) as hdul:\n",
    "        hdr = hdul[0].header\n",
    "        hdr['imagetyp'] = 'DARK'\n",
    "        hdr['bunit'] = 'adu'\n",
    "        hdul.writeto(data_cleaned / 'dark-5s-00{}.fits'.format(i+1), overwrite=True)\n",
    "\n",
    "num_dark180s = 5\n",
    "image_name_dark180s = ['DARK-180s-00{}.FIT'.format(x+1) for x in\n",
    "                        range(num_dark180s)]\n",
    "\n",
    "for i in range(num_dark180s):\n",
    "    with fits.open(data_raw / image_name_dark180s[i]) as hdul:\n",
    "        hdr = hdul[0].header\n",
    "        hdr['imagetyp'] = 'DARK'\n",
    "        hdr['bunit'] = 'adu'\n",
    "        hdul.writeto(data_cleaned / 'dark-180s-00{}.fits'.format(i+1), overwrite=True)\n",
    "\n",
    "num_light = 4\n",
    "image_name_light = ['vega-180s-00{}.FIT'.format(x+1) for x in range(num_light)]\n",
    "\n",
    "for i in range(num_light):\n",
    "    with fits.open(data_raw / image_name_light[i]) as hdul:\n",
    "        hdr = hdul[0].header\n",
    "        hdr['imagetyp'] = 'LIGHT'\n",
    "        hdr['bunit'] = 'adu'\n",
    "        hdul.writeto(data_cleaned / 'vega-180s-00{}.fits'.format(i+1), overwrite=True)\n",
    "\n",
    "num_calib = 3\n",
    "image_name_calib = ['lamp2-5s-00{}.FIT'.format(x+1) for x in range(num_calib)]\n",
    "\n",
    "for i in range(num_calib):\n",
    "    with fits.open(data_raw / image_name_calib[i]) as hdul:\n",
    "        hdr = hdul[0].header\n",
    "        hdr['imagetyp'] = 'CALIB'\n",
    "        hdr['bunit'] = 'adu'\n",
    "        hdul.writeto(data_cleaned / 'lamp2-180s-00{}.fits'.format(i+1), overwrite=True)"
   ]
  },
  {
   "cell_type": "code",
   "execution_count": 10,
   "metadata": {},
   "outputs": [
    {
     "data": {
      "text/html": [
       "<div><i>Table masked=True length=17</i>\n",
       "<table id=\"table1906316589520\" class=\"table-striped table-bordered table-condensed\">\n",
       "<thead><tr><th>file</th><th>simple</th><th>bitpix</th><th>naxis</th><th>naxis1</th><th>naxis2</th><th>object</th><th>telescop</th><th>instrume</th><th>observer</th><th>date-obs</th><th>bscale</th><th>bzero</th><th>exptime</th><th>ccd-temp</th><th>xpixsz</th><th>ypixsz</th><th>xbinning</th><th>ybinning</th><th>xorgsubf</th><th>yorgsubf</th><th>egain</th><th>focallen</th><th>aptdia</th><th>aptarea</th><th>cblack</th><th>cwhite</th><th>pedestal</th><th>datamax</th><th>sbstdver</th><th>swacquir</th><th>swcreate</th><th>filter</th><th>snapshot</th><th>date</th><th>resmode</th><th>expstate</th><th>response</th><th>note</th><th>imagetyp</th><th>bunit</th></tr></thead>\n",
       "<thead><tr><th>str19</th><th>bool</th><th>int32</th><th>int32</th><th>int32</th><th>int32</th><th>str1</th><th>str17</th><th>str11</th><th>str15</th><th>str23</th><th>int32</th><th>int32</th><th>float64</th><th>float64</th><th>float64</th><th>float64</th><th>int32</th><th>int32</th><th>int32</th><th>int32</th><th>float64</th><th>float64</th><th>float64</th><th>float64</th><th>int32</th><th>int32</th><th>int32</th><th>int32</th><th>str21</th><th>str26</th><th>str39</th><th>str4</th><th>int32</th><th>str10</th><th>int32</th><th>str3</th><th>float64</th><th>str31</th><th>str5</th><th>str3</th></tr></thead>\n",
       "<tr><td>dark-180s-001.fits</td><td>True</td><td>16</td><td>2</td><td>1530</td><td>1020</td><td></td><td>Unknown Telescope</td><td>SBIG ST-402</td><td>Observer&apos;s Name</td><td>2021-08-13T01:53:25.000</td><td>1</td><td>32768</td><td>180.0</td><td>-4.817803680962</td><td>9.0</td><td>9.0</td><td>1</td><td>1</td><td>0</td><td>0</td><td>1.54</td><td>2032.0</td><td>203.2</td><td>27868.912004</td><td>1000</td><td>1129</td><td>-100</td><td>65535</td><td>SBFITSEXT Version 1.0</td><td>WinOPS Ver 5.47 Build 6-NT</td><td>SBIG Win CCDOPS Version 5.47 Build 6-NT</td><td>None</td><td>1</td><td>2021-08-13</td><td>259</td><td>125</td><td>3000.0</td><td>Local time:8/13/2021 at 4:53:25</td><td>DARK</td><td>adu</td></tr>\n",
       "<tr><td>dark-180s-002.fits</td><td>True</td><td>16</td><td>2</td><td>1530</td><td>1020</td><td></td><td>Unknown Telescope</td><td>SBIG ST-402</td><td>Observer&apos;s Name</td><td>2021-08-13T01:56:28.000</td><td>1</td><td>32768</td><td>180.0</td><td>-4.817803680962</td><td>9.0</td><td>9.0</td><td>1</td><td>1</td><td>0</td><td>0</td><td>1.54</td><td>2032.0</td><td>203.2</td><td>27868.912004</td><td>1000</td><td>1129</td><td>-100</td><td>65535</td><td>SBFITSEXT Version 1.0</td><td>WinOPS Ver 5.47 Build 6-NT</td><td>SBIG Win CCDOPS Version 5.47 Build 6-NT</td><td>None</td><td>1</td><td>2021-08-13</td><td>259</td><td>125</td><td>3000.0</td><td>Local time:8/13/2021 at 4:56:28</td><td>DARK</td><td>adu</td></tr>\n",
       "<tr><td>dark-180s-003.fits</td><td>True</td><td>16</td><td>2</td><td>1530</td><td>1020</td><td></td><td>Unknown Telescope</td><td>SBIG ST-402</td><td>Observer&apos;s Name</td><td>2021-08-13T01:59:31.000</td><td>1</td><td>32768</td><td>180.0</td><td>-4.817803680962</td><td>9.0</td><td>9.0</td><td>1</td><td>1</td><td>0</td><td>0</td><td>1.54</td><td>2032.0</td><td>203.2</td><td>27868.912004</td><td>1004</td><td>1133</td><td>-100</td><td>65535</td><td>SBFITSEXT Version 1.0</td><td>WinOPS Ver 5.47 Build 6-NT</td><td>SBIG Win CCDOPS Version 5.47 Build 6-NT</td><td>None</td><td>1</td><td>2021-08-13</td><td>259</td><td>125</td><td>3000.0</td><td>Local time:8/13/2021 at 4:59:31</td><td>DARK</td><td>adu</td></tr>\n",
       "<tr><td>dark-180s-004.fits</td><td>True</td><td>16</td><td>2</td><td>1530</td><td>1020</td><td></td><td>Unknown Telescope</td><td>SBIG ST-402</td><td>Observer&apos;s Name</td><td>2021-08-13T02:02:34.000</td><td>1</td><td>32768</td><td>180.0</td><td>-4.817803680962</td><td>9.0</td><td>9.0</td><td>1</td><td>1</td><td>0</td><td>0</td><td>1.54</td><td>2032.0</td><td>203.2</td><td>27868.912004</td><td>1004</td><td>1133</td><td>-100</td><td>65535</td><td>SBFITSEXT Version 1.0</td><td>WinOPS Ver 5.47 Build 6-NT</td><td>SBIG Win CCDOPS Version 5.47 Build 6-NT</td><td>None</td><td>1</td><td>2021-08-13</td><td>259</td><td>125</td><td>3000.0</td><td>Local time:8/13/2021 at 5:02:34</td><td>DARK</td><td>adu</td></tr>\n",
       "<tr><td>dark-180s-005.fits</td><td>True</td><td>16</td><td>2</td><td>1530</td><td>1020</td><td></td><td>Unknown Telescope</td><td>SBIG ST-402</td><td>Observer&apos;s Name</td><td>2021-08-13T02:05:36.000</td><td>1</td><td>32768</td><td>180.0</td><td>-4.817803680962</td><td>9.0</td><td>9.0</td><td>1</td><td>1</td><td>0</td><td>0</td><td>1.54</td><td>2032.0</td><td>203.2</td><td>27868.912004</td><td>1004</td><td>1133</td><td>-100</td><td>65535</td><td>SBFITSEXT Version 1.0</td><td>WinOPS Ver 5.47 Build 6-NT</td><td>SBIG Win CCDOPS Version 5.47 Build 6-NT</td><td>None</td><td>1</td><td>2021-08-13</td><td>259</td><td>125</td><td>3000.0</td><td>Local time:8/13/2021 at 5:05:36</td><td>DARK</td><td>adu</td></tr>\n",
       "<tr><td>dark-5s-001.fits</td><td>True</td><td>16</td><td>2</td><td>1530</td><td>1020</td><td></td><td>Unknown Telescope</td><td>SBIG ST-402</td><td>Observer&apos;s Name</td><td>2021-08-12T23:01:42.000</td><td>1</td><td>32768</td><td>5.0</td><td>-5.23215684599</td><td>9.0</td><td>9.0</td><td>1</td><td>1</td><td>0</td><td>0</td><td>1.54</td><td>2032.0</td><td>203.2</td><td>27868.912004</td><td>988</td><td>1117</td><td>-100</td><td>65535</td><td>SBFITSEXT Version 1.0</td><td>WinOPS Ver 5.47 Build 6-NT</td><td>SBIG Win CCDOPS Version 5.47 Build 6-NT</td><td>None</td><td>1</td><td>2021-08-12</td><td>259</td><td>125</td><td>3000.0</td><td>Local time:8/13/2021 at 2:01:42</td><td>DARK</td><td>adu</td></tr>\n",
       "<tr><td>dark-5s-002.fits</td><td>True</td><td>16</td><td>2</td><td>1530</td><td>1020</td><td></td><td>Unknown Telescope</td><td>SBIG ST-402</td><td>Observer&apos;s Name</td><td>2021-08-12T23:01:49.000</td><td>1</td><td>32768</td><td>5.0</td><td>-5.23215684599</td><td>9.0</td><td>9.0</td><td>1</td><td>1</td><td>0</td><td>0</td><td>1.54</td><td>2032.0</td><td>203.2</td><td>27868.912004</td><td>988</td><td>1117</td><td>-100</td><td>65535</td><td>SBFITSEXT Version 1.0</td><td>WinOPS Ver 5.47 Build 6-NT</td><td>SBIG Win CCDOPS Version 5.47 Build 6-NT</td><td>None</td><td>1</td><td>2021-08-12</td><td>259</td><td>125</td><td>3000.0</td><td>Local time:8/13/2021 at 2:01:49</td><td>DARK</td><td>adu</td></tr>\n",
       "<tr><td>dark-5s-003.fits</td><td>True</td><td>16</td><td>2</td><td>1530</td><td>1020</td><td></td><td>Unknown Telescope</td><td>SBIG ST-402</td><td>Observer&apos;s Name</td><td>2021-08-12T23:01:57.000</td><td>1</td><td>32768</td><td>5.0</td><td>-5.23215684599</td><td>9.0</td><td>9.0</td><td>1</td><td>1</td><td>0</td><td>0</td><td>1.54</td><td>2032.0</td><td>203.2</td><td>27868.912004</td><td>988</td><td>1117</td><td>-100</td><td>65535</td><td>SBFITSEXT Version 1.0</td><td>WinOPS Ver 5.47 Build 6-NT</td><td>SBIG Win CCDOPS Version 5.47 Build 6-NT</td><td>None</td><td>1</td><td>2021-08-12</td><td>259</td><td>125</td><td>3000.0</td><td>Local time:8/13/2021 at 2:01:57</td><td>DARK</td><td>adu</td></tr>\n",
       "<tr><td>dark-5s-004.fits</td><td>True</td><td>16</td><td>2</td><td>1530</td><td>1020</td><td></td><td>Unknown Telescope</td><td>SBIG ST-402</td><td>Observer&apos;s Name</td><td>2021-08-12T23:02:05.000</td><td>1</td><td>32768</td><td>5.0</td><td>-5.23215684599</td><td>9.0</td><td>9.0</td><td>1</td><td>1</td><td>0</td><td>0</td><td>1.54</td><td>2032.0</td><td>203.2</td><td>27868.912004</td><td>988</td><td>1117</td><td>-100</td><td>65535</td><td>SBFITSEXT Version 1.0</td><td>WinOPS Ver 5.47 Build 6-NT</td><td>SBIG Win CCDOPS Version 5.47 Build 6-NT</td><td>None</td><td>1</td><td>2021-08-12</td><td>259</td><td>125</td><td>3000.0</td><td>Local time:8/13/2021 at 2:02:05</td><td>DARK</td><td>adu</td></tr>\n",
       "<tr><td>dark-5s-005.fits</td><td>True</td><td>16</td><td>2</td><td>1530</td><td>1020</td><td></td><td>Unknown Telescope</td><td>SBIG ST-402</td><td>Observer&apos;s Name</td><td>2021-08-12T23:02:12.000</td><td>1</td><td>32768</td><td>5.0</td><td>-5.23215684599</td><td>9.0</td><td>9.0</td><td>1</td><td>1</td><td>0</td><td>0</td><td>1.54</td><td>2032.0</td><td>203.2</td><td>27868.912004</td><td>988</td><td>1117</td><td>-100</td><td>65535</td><td>SBFITSEXT Version 1.0</td><td>WinOPS Ver 5.47 Build 6-NT</td><td>SBIG Win CCDOPS Version 5.47 Build 6-NT</td><td>None</td><td>1</td><td>2021-08-12</td><td>259</td><td>125</td><td>3000.0</td><td>Local time:8/13/2021 at 2:02:12</td><td>DARK</td><td>adu</td></tr>\n",
       "<tr><td>lamp2-180s-001.fits</td><td>True</td><td>16</td><td>2</td><td>1530</td><td>1020</td><td></td><td>Unknown Telescope</td><td>SBIG ST-402</td><td>Observer&apos;s Name</td><td>2021-08-12T22:58:56.000</td><td>1</td><td>32768</td><td>5.0</td><td>-5.23215684599</td><td>9.0</td><td>9.0</td><td>1</td><td>1</td><td>0</td><td>0</td><td>1.54</td><td>2032.0</td><td>203.2</td><td>27868.912004</td><td>781</td><td>3099</td><td>-100</td><td>65535</td><td>SBFITSEXT Version 1.0</td><td>WinOPS Ver 5.47 Build 6-NT</td><td>SBIG Win CCDOPS Version 5.47 Build 6-NT</td><td>None</td><td>1</td><td>2021-08-12</td><td>259</td><td>125</td><td>3000.0</td><td>Local time:8/13/2021 at 1:58:56</td><td>CALIB</td><td>adu</td></tr>\n",
       "<tr><td>lamp2-180s-002.fits</td><td>True</td><td>16</td><td>2</td><td>1530</td><td>1020</td><td></td><td>Unknown Telescope</td><td>SBIG ST-402</td><td>Observer&apos;s Name</td><td>2021-08-12T22:59:03.000</td><td>1</td><td>32768</td><td>5.0</td><td>-5.23215684599</td><td>9.0</td><td>9.0</td><td>1</td><td>1</td><td>0</td><td>0</td><td>1.54</td><td>2032.0</td><td>203.2</td><td>27868.912004</td><td>776</td><td>3103</td><td>-100</td><td>65535</td><td>SBFITSEXT Version 1.0</td><td>WinOPS Ver 5.47 Build 6-NT</td><td>SBIG Win CCDOPS Version 5.47 Build 6-NT</td><td>None</td><td>1</td><td>2021-08-12</td><td>259</td><td>125</td><td>3000.0</td><td>Local time:8/13/2021 at 1:59:03</td><td>CALIB</td><td>adu</td></tr>\n",
       "<tr><td>lamp2-180s-003.fits</td><td>True</td><td>16</td><td>2</td><td>1530</td><td>1020</td><td></td><td>Unknown Telescope</td><td>SBIG ST-402</td><td>Observer&apos;s Name</td><td>2021-08-12T22:59:11.000</td><td>1</td><td>32768</td><td>5.0</td><td>-5.23215684599</td><td>9.0</td><td>9.0</td><td>1</td><td>1</td><td>0</td><td>0</td><td>1.54</td><td>2032.0</td><td>203.2</td><td>27868.912004</td><td>775</td><td>3107</td><td>-100</td><td>65535</td><td>SBFITSEXT Version 1.0</td><td>WinOPS Ver 5.47 Build 6-NT</td><td>SBIG Win CCDOPS Version 5.47 Build 6-NT</td><td>None</td><td>1</td><td>2021-08-12</td><td>259</td><td>125</td><td>3000.0</td><td>Local time:8/13/2021 at 1:59:11</td><td>CALIB</td><td>adu</td></tr>\n",
       "<tr><td>vega-180s-001.fits</td><td>True</td><td>16</td><td>2</td><td>1530</td><td>1020</td><td></td><td>Unknown Telescope</td><td>SBIG ST-402</td><td>Observer&apos;s Name</td><td>2021-08-12T23:05:39.000</td><td>1</td><td>32768</td><td>180.0</td><td>-4.817803680962</td><td>9.0</td><td>9.0</td><td>1</td><td>1</td><td>0</td><td>0</td><td>1.54</td><td>2032.0</td><td>203.2</td><td>27868.912004</td><td>876</td><td>2240</td><td>-100</td><td>65535</td><td>SBFITSEXT Version 1.0</td><td>WinOPS Ver 5.47 Build 6-NT</td><td>SBIG Win CCDOPS Version 5.47 Build 6-NT</td><td>None</td><td>1</td><td>2021-08-12</td><td>259</td><td>125</td><td>3000.0</td><td>Local time:8/13/2021 at 2:05:39</td><td>LIGHT</td><td>adu</td></tr>\n",
       "<tr><td>vega-180s-002.fits</td><td>True</td><td>16</td><td>2</td><td>1530</td><td>1020</td><td></td><td>Unknown Telescope</td><td>SBIG ST-402</td><td>Observer&apos;s Name</td><td>2021-08-12T23:08:42.000</td><td>1</td><td>32768</td><td>180.0</td><td>-4.817803680962</td><td>9.0</td><td>9.0</td><td>1</td><td>1</td><td>0</td><td>0</td><td>1.54</td><td>2032.0</td><td>203.2</td><td>27868.912004</td><td>869</td><td>2299</td><td>-100</td><td>65535</td><td>SBFITSEXT Version 1.0</td><td>WinOPS Ver 5.47 Build 6-NT</td><td>SBIG Win CCDOPS Version 5.47 Build 6-NT</td><td>None</td><td>1</td><td>2021-08-12</td><td>259</td><td>125</td><td>3000.0</td><td>Local time:8/13/2021 at 2:08:42</td><td>LIGHT</td><td>adu</td></tr>\n",
       "<tr><td>vega-180s-003.fits</td><td>True</td><td>16</td><td>2</td><td>1530</td><td>1020</td><td></td><td>Unknown Telescope</td><td>SBIG ST-402</td><td>Observer&apos;s Name</td><td>2021-08-12T23:11:44.000</td><td>1</td><td>32768</td><td>180.0</td><td>-4.817803680962</td><td>9.0</td><td>9.0</td><td>1</td><td>1</td><td>0</td><td>0</td><td>1.54</td><td>2032.0</td><td>203.2</td><td>27868.912004</td><td>818</td><td>2762</td><td>-100</td><td>65535</td><td>SBFITSEXT Version 1.0</td><td>WinOPS Ver 5.47 Build 6-NT</td><td>SBIG Win CCDOPS Version 5.47 Build 6-NT</td><td>None</td><td>1</td><td>2021-08-12</td><td>259</td><td>125</td><td>3000.0</td><td>Local time:8/13/2021 at 2:11:44</td><td>LIGHT</td><td>adu</td></tr>\n",
       "<tr><td>vega-180s-004.fits</td><td>True</td><td>16</td><td>2</td><td>1530</td><td>1020</td><td></td><td>Unknown Telescope</td><td>SBIG ST-402</td><td>Observer&apos;s Name</td><td>2021-08-12T23:14:47.000</td><td>1</td><td>32768</td><td>180.0</td><td>-4.817803680962</td><td>9.0</td><td>9.0</td><td>1</td><td>1</td><td>0</td><td>0</td><td>1.54</td><td>2032.0</td><td>203.2</td><td>27868.912004</td><td>819</td><td>2750</td><td>-100</td><td>65535</td><td>SBFITSEXT Version 1.0</td><td>WinOPS Ver 5.47 Build 6-NT</td><td>SBIG Win CCDOPS Version 5.47 Build 6-NT</td><td>None</td><td>1</td><td>2021-08-12</td><td>259</td><td>125</td><td>3000.0</td><td>Local time:8/13/2021 at 2:14:47</td><td>LIGHT</td><td>adu</td></tr>\n",
       "</table></div>"
      ],
      "text/plain": [
       "<Table masked=True length=17>\n",
       "        file        simple bitpix ... imagetyp bunit\n",
       "       str19         bool  int32  ...   str5    str3\n",
       "------------------- ------ ------ ... -------- -----\n",
       " dark-180s-001.fits   True     16 ...     DARK   adu\n",
       " dark-180s-002.fits   True     16 ...     DARK   adu\n",
       " dark-180s-003.fits   True     16 ...     DARK   adu\n",
       " dark-180s-004.fits   True     16 ...     DARK   adu\n",
       " dark-180s-005.fits   True     16 ...     DARK   adu\n",
       "   dark-5s-001.fits   True     16 ...     DARK   adu\n",
       "   dark-5s-002.fits   True     16 ...     DARK   adu\n",
       "   dark-5s-003.fits   True     16 ...     DARK   adu\n",
       "   dark-5s-004.fits   True     16 ...     DARK   adu\n",
       "   dark-5s-005.fits   True     16 ...     DARK   adu\n",
       "lamp2-180s-001.fits   True     16 ...    CALIB   adu\n",
       "lamp2-180s-002.fits   True     16 ...    CALIB   adu\n",
       "lamp2-180s-003.fits   True     16 ...    CALIB   adu\n",
       " vega-180s-001.fits   True     16 ...    LIGHT   adu\n",
       " vega-180s-002.fits   True     16 ...    LIGHT   adu\n",
       " vega-180s-003.fits   True     16 ...    LIGHT   adu\n",
       " vega-180s-004.fits   True     16 ...    LIGHT   adu"
      ]
     },
     "execution_count": 10,
     "metadata": {},
     "output_type": "execute_result"
    }
   ],
   "source": [
    "# Check we made a good job.\n",
    "# Again, modify as fit.\n",
    "\n",
    "im_collection = ImageFileCollection(data_cleaned)\n",
    "im_collection.summary"
   ]
  }
 ],
 "metadata": {
  "kernelspec": {
   "display_name": "Python 3.8.13 ('brezi-env')",
   "language": "python",
   "name": "python3"
  },
  "language_info": {
   "codemirror_mode": {
    "name": "ipython",
    "version": 3
   },
   "file_extension": ".py",
   "mimetype": "text/x-python",
   "name": "python",
   "nbconvert_exporter": "python",
   "pygments_lexer": "ipython3",
   "version": "3.8.13"
  },
  "orig_nbformat": 4,
  "vscode": {
   "interpreter": {
    "hash": "50b63378fec4551b47ec94d70f68162ba1e65d9f46c81222a4a6f6b0bb7dd6c1"
   }
  }
 },
 "nbformat": 4,
 "nbformat_minor": 2
}
