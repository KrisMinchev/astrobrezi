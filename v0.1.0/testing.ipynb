{
 "cells": [
  {
   "cell_type": "code",
   "execution_count": 2,
   "metadata": {},
   "outputs": [],
   "source": [
    "from astropy.io import fits\n",
    "\n",
    "fits_image_filename = './data-cleaned/DARK-5s-001.FIT'"
   ]
  },
  {
   "cell_type": "code",
   "execution_count": 3,
   "metadata": {},
   "outputs": [
    {
     "ename": "FileNotFoundError",
     "evalue": "[Errno 2] No such file or directory: './data-cleaned/DARK-5s-001.FIT'",
     "output_type": "error",
     "traceback": [
      "\u001b[1;31m---------------------------------------------------------------------------\u001b[0m",
      "\u001b[1;31mFileNotFoundError\u001b[0m                         Traceback (most recent call last)",
      "\u001b[1;32mc:\\Users\\User\\Desktop\\Brezi2022\\brezi2021\\v0.1.0\\testing.ipynb Cell 2\u001b[0m in \u001b[0;36m<cell line: 1>\u001b[1;34m()\u001b[0m\n\u001b[1;32m----> <a href='vscode-notebook-cell:/c%3A/Users/User/Desktop/Brezi2022/brezi2021/v0.1.0/testing.ipynb#ch0000001?line=0'>1</a>\u001b[0m \u001b[39mwith\u001b[39;00m fits\u001b[39m.\u001b[39;49mopen(fits_image_filename) \u001b[39mas\u001b[39;00m hdul:\n\u001b[0;32m      <a href='vscode-notebook-cell:/c%3A/Users/User/Desktop/Brezi2022/brezi2021/v0.1.0/testing.ipynb#ch0000001?line=1'>2</a>\u001b[0m     hdr \u001b[39m=\u001b[39m hdul[\u001b[39m0\u001b[39m]\u001b[39m.\u001b[39mheader\n\u001b[0;32m      <a href='vscode-notebook-cell:/c%3A/Users/User/Desktop/Brezi2022/brezi2021/v0.1.0/testing.ipynb#ch0000001?line=2'>3</a>\u001b[0m     hdr[\u001b[39m'\u001b[39m\u001b[39mimagetyp\u001b[39m\u001b[39m'\u001b[39m] \u001b[39m=\u001b[39m \u001b[39m'\u001b[39m\u001b[39mDARK\u001b[39m\u001b[39m'\u001b[39m\n",
      "File \u001b[1;32mc:\\Users\\User\\anaconda3\\envs\\brezi-env\\lib\\site-packages\\astropy\\io\\fits\\hdu\\hdulist.py:176\u001b[0m, in \u001b[0;36mfitsopen\u001b[1;34m(name, mode, memmap, save_backup, cache, lazy_load_hdus, ignore_missing_simple, **kwargs)\u001b[0m\n\u001b[0;32m    173\u001b[0m \u001b[39mif\u001b[39;00m \u001b[39mnot\u001b[39;00m name:\n\u001b[0;32m    174\u001b[0m     \u001b[39mraise\u001b[39;00m \u001b[39mValueError\u001b[39;00m(\u001b[39mf\u001b[39m\u001b[39m'\u001b[39m\u001b[39mEmpty filename: \u001b[39m\u001b[39m{\u001b[39;00mname\u001b[39m!r}\u001b[39;00m\u001b[39m'\u001b[39m)\n\u001b[1;32m--> 176\u001b[0m \u001b[39mreturn\u001b[39;00m HDUList\u001b[39m.\u001b[39;49mfromfile(name, mode, memmap, save_backup, cache,\n\u001b[0;32m    177\u001b[0m                         lazy_load_hdus, ignore_missing_simple, \u001b[39m*\u001b[39;49m\u001b[39m*\u001b[39;49mkwargs)\n",
      "File \u001b[1;32mc:\\Users\\User\\anaconda3\\envs\\brezi-env\\lib\\site-packages\\astropy\\io\\fits\\hdu\\hdulist.py:411\u001b[0m, in \u001b[0;36mHDUList.fromfile\u001b[1;34m(cls, fileobj, mode, memmap, save_backup, cache, lazy_load_hdus, ignore_missing_simple, **kwargs)\u001b[0m\n\u001b[0;32m    399\u001b[0m \u001b[39m@classmethod\u001b[39m\n\u001b[0;32m    400\u001b[0m \u001b[39mdef\u001b[39;00m \u001b[39mfromfile\u001b[39m(\u001b[39mcls\u001b[39m, fileobj, mode\u001b[39m=\u001b[39m\u001b[39mNone\u001b[39;00m, memmap\u001b[39m=\u001b[39m\u001b[39mNone\u001b[39;00m,\n\u001b[0;32m    401\u001b[0m              save_backup\u001b[39m=\u001b[39m\u001b[39mFalse\u001b[39;00m, cache\u001b[39m=\u001b[39m\u001b[39mTrue\u001b[39;00m, lazy_load_hdus\u001b[39m=\u001b[39m\u001b[39mTrue\u001b[39;00m,\n\u001b[0;32m    402\u001b[0m              ignore_missing_simple\u001b[39m=\u001b[39m\u001b[39mFalse\u001b[39;00m, \u001b[39m*\u001b[39m\u001b[39m*\u001b[39mkwargs):\n\u001b[0;32m    403\u001b[0m     \u001b[39m\"\"\"\u001b[39;00m\n\u001b[0;32m    404\u001b[0m \u001b[39m    Creates an `HDUList` instance from a file-like object.\u001b[39;00m\n\u001b[0;32m    405\u001b[0m \n\u001b[1;32m   (...)\u001b[0m\n\u001b[0;32m    408\u001b[0m \u001b[39m    documentation for details of the parameters accepted by this method).\u001b[39;00m\n\u001b[0;32m    409\u001b[0m \u001b[39m    \"\"\"\u001b[39;00m\n\u001b[1;32m--> 411\u001b[0m     \u001b[39mreturn\u001b[39;00m \u001b[39mcls\u001b[39;49m\u001b[39m.\u001b[39;49m_readfrom(fileobj\u001b[39m=\u001b[39;49mfileobj, mode\u001b[39m=\u001b[39;49mmode, memmap\u001b[39m=\u001b[39;49mmemmap,\n\u001b[0;32m    412\u001b[0m                          save_backup\u001b[39m=\u001b[39;49msave_backup, cache\u001b[39m=\u001b[39;49mcache,\n\u001b[0;32m    413\u001b[0m                          ignore_missing_simple\u001b[39m=\u001b[39;49mignore_missing_simple,\n\u001b[0;32m    414\u001b[0m                          lazy_load_hdus\u001b[39m=\u001b[39;49mlazy_load_hdus, \u001b[39m*\u001b[39;49m\u001b[39m*\u001b[39;49mkwargs)\n",
      "File \u001b[1;32mc:\\Users\\User\\anaconda3\\envs\\brezi-env\\lib\\site-packages\\astropy\\io\\fits\\hdu\\hdulist.py:1071\u001b[0m, in \u001b[0;36mHDUList._readfrom\u001b[1;34m(cls, fileobj, data, mode, memmap, cache, lazy_load_hdus, ignore_missing_simple, **kwargs)\u001b[0m\n\u001b[0;32m   1068\u001b[0m \u001b[39mif\u001b[39;00m fileobj \u001b[39mis\u001b[39;00m \u001b[39mnot\u001b[39;00m \u001b[39mNone\u001b[39;00m:\n\u001b[0;32m   1069\u001b[0m     \u001b[39mif\u001b[39;00m \u001b[39mnot\u001b[39;00m \u001b[39misinstance\u001b[39m(fileobj, _File):\n\u001b[0;32m   1070\u001b[0m         \u001b[39m# instantiate a FITS file object (ffo)\u001b[39;00m\n\u001b[1;32m-> 1071\u001b[0m         fileobj \u001b[39m=\u001b[39m _File(fileobj, mode\u001b[39m=\u001b[39;49mmode, memmap\u001b[39m=\u001b[39;49mmemmap, cache\u001b[39m=\u001b[39;49mcache)\n\u001b[0;32m   1072\u001b[0m     \u001b[39m# The Astropy mode is determined by the _File initializer if the\u001b[39;00m\n\u001b[0;32m   1073\u001b[0m     \u001b[39m# supplied mode was None\u001b[39;00m\n\u001b[0;32m   1074\u001b[0m     mode \u001b[39m=\u001b[39m fileobj\u001b[39m.\u001b[39mmode\n",
      "File \u001b[1;32mc:\\Users\\User\\anaconda3\\envs\\brezi-env\\lib\\site-packages\\astropy\\utils\\decorators.py:546\u001b[0m, in \u001b[0;36mdeprecated_renamed_argument.<locals>.decorator.<locals>.wrapper\u001b[1;34m(*args, **kwargs)\u001b[0m\n\u001b[0;32m    543\u001b[0m             msg \u001b[39m+\u001b[39m\u001b[39m=\u001b[39m \u001b[39mf\u001b[39m\u001b[39m'\u001b[39m\u001b[39m\\n\u001b[39;00m\u001b[39m        Use \u001b[39m\u001b[39m{\u001b[39;00malternative\u001b[39m}\u001b[39;00m\u001b[39m instead.\u001b[39m\u001b[39m'\u001b[39m\n\u001b[0;32m    544\u001b[0m         warnings\u001b[39m.\u001b[39mwarn(msg, warning_type, stacklevel\u001b[39m=\u001b[39m\u001b[39m2\u001b[39m)\n\u001b[1;32m--> 546\u001b[0m \u001b[39mreturn\u001b[39;00m function(\u001b[39m*\u001b[39;49margs, \u001b[39m*\u001b[39;49m\u001b[39m*\u001b[39;49mkwargs)\n",
      "File \u001b[1;32mc:\\Users\\User\\anaconda3\\envs\\brezi-env\\lib\\site-packages\\astropy\\io\\fits\\file.py:175\u001b[0m, in \u001b[0;36m_File.__init__\u001b[1;34m(self, fileobj, mode, memmap, overwrite, cache)\u001b[0m\n\u001b[0;32m    173\u001b[0m     \u001b[39mself\u001b[39m\u001b[39m.\u001b[39m_open_fileobj(fileobj, mode, overwrite)\n\u001b[0;32m    174\u001b[0m \u001b[39melif\u001b[39;00m \u001b[39misinstance\u001b[39m(fileobj, (\u001b[39mstr\u001b[39m, \u001b[39mbytes\u001b[39m)):\n\u001b[1;32m--> 175\u001b[0m     \u001b[39mself\u001b[39;49m\u001b[39m.\u001b[39;49m_open_filename(fileobj, mode, overwrite)\n\u001b[0;32m    176\u001b[0m \u001b[39melse\u001b[39;00m:\n\u001b[0;32m    177\u001b[0m     \u001b[39mself\u001b[39m\u001b[39m.\u001b[39m_open_filelike(fileobj, mode, overwrite)\n",
      "File \u001b[1;32mc:\\Users\\User\\anaconda3\\envs\\brezi-env\\lib\\site-packages\\astropy\\io\\fits\\file.py:564\u001b[0m, in \u001b[0;36m_File._open_filename\u001b[1;34m(self, filename, mode, overwrite)\u001b[0m\n\u001b[0;32m    561\u001b[0m ext \u001b[39m=\u001b[39m os\u001b[39m.\u001b[39mpath\u001b[39m.\u001b[39msplitext(\u001b[39mself\u001b[39m\u001b[39m.\u001b[39mname)[\u001b[39m1\u001b[39m]\n\u001b[0;32m    563\u001b[0m \u001b[39mif\u001b[39;00m \u001b[39mnot\u001b[39;00m \u001b[39mself\u001b[39m\u001b[39m.\u001b[39m_try_read_compressed(\u001b[39mself\u001b[39m\u001b[39m.\u001b[39mname, magic, mode, ext\u001b[39m=\u001b[39mext):\n\u001b[1;32m--> 564\u001b[0m     \u001b[39mself\u001b[39m\u001b[39m.\u001b[39m_file \u001b[39m=\u001b[39m fileobj_open(\u001b[39mself\u001b[39;49m\u001b[39m.\u001b[39;49mname, IO_FITS_MODES[mode])\n\u001b[0;32m    565\u001b[0m     \u001b[39mself\u001b[39m\u001b[39m.\u001b[39mclose_on_error \u001b[39m=\u001b[39m \u001b[39mTrue\u001b[39;00m\n\u001b[0;32m    567\u001b[0m \u001b[39m# Make certain we're back at the beginning of the file\u001b[39;00m\n\u001b[0;32m    568\u001b[0m \u001b[39m# BZ2File does not support seek when the file is open for writing, but\u001b[39;00m\n\u001b[0;32m    569\u001b[0m \u001b[39m# when opening a file for write, bz2.BZ2File always truncates anyway.\u001b[39;00m\n",
      "File \u001b[1;32mc:\\Users\\User\\anaconda3\\envs\\brezi-env\\lib\\site-packages\\astropy\\io\\fits\\util.py:388\u001b[0m, in \u001b[0;36mfileobj_open\u001b[1;34m(filename, mode)\u001b[0m\n\u001b[0;32m    378\u001b[0m \u001b[39mdef\u001b[39;00m \u001b[39mfileobj_open\u001b[39m(filename, mode):\n\u001b[0;32m    379\u001b[0m     \u001b[39m\"\"\"\u001b[39;00m\n\u001b[0;32m    380\u001b[0m \u001b[39m    A wrapper around the `open()` builtin.\u001b[39;00m\n\u001b[0;32m    381\u001b[0m \n\u001b[1;32m   (...)\u001b[0m\n\u001b[0;32m    385\u001b[0m \u001b[39m    a raw random-access file reader.\u001b[39;00m\n\u001b[0;32m    386\u001b[0m \u001b[39m    \"\"\"\u001b[39;00m\n\u001b[1;32m--> 388\u001b[0m     \u001b[39mreturn\u001b[39;00m \u001b[39mopen\u001b[39;49m(filename, mode, buffering\u001b[39m=\u001b[39;49m\u001b[39m0\u001b[39;49m)\n",
      "\u001b[1;31mFileNotFoundError\u001b[0m: [Errno 2] No such file or directory: './data-cleaned/DARK-5s-001.FIT'"
     ]
    }
   ],
   "source": [
    "with fits.open(fits_image_filename) as hdul:\n",
    "    hdr = hdul[0].header\n",
    "    hdr['imagetyp'] = 'DARK'\n",
    "    hdul.writeto('my-dark.fits')\n",
    "    "
   ]
  },
  {
   "cell_type": "code",
   "execution_count": null,
   "metadata": {},
   "outputs": [
    {
     "name": "stdout",
     "output_type": "stream",
     "text": [
      "SIMPLE  =                    T /                                                BITPIX  =                   16 /                                                NAXIS   =                    2 /                                                NAXIS1  =                 1530 /                                                NAXIS2  =                 1020 /                                                OBJECT  = '        '           /                                                TELESCOP= 'Unknown Telescope'                                                   INSTRUME= 'SBIG ST-402'                                                         OBSERVER= 'Observer's Name'                                                     DATE-OBS= '2021-08-12T23:01:42.000' / GMT START OF EXPOSURE                     BSCALE  =                    1                                                  BZERO   =                32768                                                  EXPTIME = +5.000000000000E+000 / EXPOSURE IN SECONDS                            CCD-TEMP= -5.232156845990E+000 / CCD TEMP IN DEGREES C                          XPIXSZ  = +9.000000000000E+000 / PIXEL WIDTH IN MICRONS                         YPIXSZ  = +9.000000000000E+000 / PIXEL HEIGHT IN MICRONS                        XBINNING=                    1 / HORIZONTAL BINNING FACTOR                      YBINNING=                    1 / VERTICAL BINNING FACTOR                        XORGSUBF=                    0 / SUB_FRAME ORIGIN X POS                         YORGSUBF=                    0 / SUB-FRAME ORIGIN Y POS                         EGAIN   = +1.540000000000E+000 / ELECTRONS PER ADU                              FOCALLEN= +2.032000000000E+003 / FOCAL LENGTH IN MM                             APTDIA  = +2.032000000000E+002 / APERTURE DIAMETER MM                           APTAREA = +2.786891200400E+004 / APERTURE AREA IN SQ-MM                         CBLACK  =                  988 / BLACK ADU FOR DISPLAY                          CWHITE  =                 1117 / WHITE ADU FOR DISPLAY                          PEDESTAL=                 -100 / ADD TO ADU FOR 0-BASE                          DATAMAX =                65535 / SATURATION LEVEL                               SBSTDVER= 'SBFITSEXT Version 1.0' / SBIG FITS EXTENSIONS VER                    SWACQUIR= 'WinOPS Ver 5.47 Build 6-NT' / DATA ACQ SOFTWARE                      SWCREATE= 'SBIG Win CCDOPS Version 5.47 Build 6-NT'                             FILTER  = 'None    '           / OPTICAL FILTER NAME                            SNAPSHOT=                    1 / NUMBER IMAGES COADDED                          DATE    = '2021-08-12'         / GMT DATE WHEN THIS FILE CREATED                RESMODE =                  259 / RESOLUTION MODE                                EXPSTATE= '125     '           / EXPOSURE STATE (HEX)                           RESPONSE= +3.000000000000E+003 / CCD RESPONSE FACTOR                            NOTE    = 'Local time:8/13/2021 at 2:01:42'                                     IMAGETYP= 'DARK    '                                                            END                                                                                                                                                                                                                                                                                                                                                                                                                                                                                                                                                                                                                                                                                                                                                                                                                                                                                                                                                                                                                                                                                                                                                                                                                                                                                                                                                                                                                                                                                                                                                                                                                                                                                                                                                                                                                                                                                                                                                                                                                                                                                                                                                                                                                                                                                                                                                                                                                                                                                                                                                                                                                                                                                                                                             \n"
     ]
    }
   ],
   "source": [
    "with fits.open('my-dark.fits') as hdul:\n",
    "    print(hdul[0].header)"
   ]
  },
  {
   "cell_type": "code",
   "execution_count": 4,
   "metadata": {},
   "outputs": [
    {
     "name": "stdout",
     "output_type": "stream",
     "text": [
      "SIMPLE  =                    T / conforms to FITS standard                      BITPIX  =                  -64 / array data type                                NAXIS   =                    2 / number of array dimensions                     NAXIS1  =                 2048                                                  NAXIS2  =                 4128                                                  DATE    = '2016-03-13'          / UT Date of file creation (DD/MM/YY)           ORIGIN  = 'California Institute of Technology'  / Palomar Observatory           LATITUDE=              33.4000  / Latitude (degrees N)                          LONGITUD=            -116.9000  / Longitude (degrees E)                         TELESCOP= 'Hale 5m Telescope'   / Telescope used for observation                FRATIO  =               7.5000  / Focal ratio of telescope                      INSTRUME= 'LFC     '            / Instrument used for observation               DETECTOR= 'SITe SI002 x 6'      / Detector used for observation                 FRAME   =                   13  / Frame number of observation                   CCDPICNO=                   13  / Frame number of observation                   OBJECT  = 'dark    '            / Name of object                                IMAGETYP= 'DARK    '            / Type of observation                           EXPTIME =              300.000  / Integration time (seconds)                    DARKTIME=              300.197  / Dark current time (seconds)                   DATE-OBS= '2016-03-13'          / UT Date of observation (DD/MM/YY)             UT      = ' 23:16:45.00'        / Universal time (UTC) at exposure start        JD      =                 2457461.469965  / Julian date at exposure start       RA      = ' 02:56:15.81'        / Right Ascension                               DEC     = ' 33:27:38.00'        / Declination                                   EQUINOX =             2000.000  / Equinox of RA and DEC                         EPOCH   =             2000.000  / Equinox of RA and DEC                         HA      = '-00:00:01.39'        / Hour angle at start                           ST      = ' 02:57:12.28'        / Sidereal time at start                        AIRMASS =                0.999  / Airmass at start                              FILTER  = 'r'      '            / Filter description                            GAIN    =                1.100  / Nominal gain (e-/ADU)                         SECPIX1 =                0.182  / Arcseconds per pixel in fast dir              SECPIX2 =                0.182  / Arcseconds per pixel in slow dir              CCDBIN1 =                    1  / On-chip column binning (fast dir)             CCDBIN2 =                    1  / On-chip row binning (slow dir)                ROTANGLE=                 0.00  / Rotation angle (deg)                          DATASEC = '[1:2048,1:4128]'     / Image area of frame                           CCDSEC  = '[1:2048,1:4128]'     / Image area relative to full chip              BIASSEC = '[2049:2080,1:4127]'  / Overscan area of frame                        LOGINFO = ' Status=0x00000000'                                                  CHIPID  =                    0                                                  HIERARCH SUBTRACT_OVERSCAN = 'suboscan' / Shortened name for ccdproc command    SUBOSCAN= 'ccd=<CCDData>, overscan=<CCDData>, median=True'                      HIERARCH TRIM_IMAGE = 'trimim  ' / Shortened name for ccdproc command           TRIMIM  = 'ccd=<CCDData>'                                                       BUNIT   = 'adu     '                                                            COMBINED=                    T                                                  END                                                                                                                                                                                                                                                                                                                                                                                                                                                                                                                                                                                                                                                                                                                                                                                                                                                                                                                                                                                                                                                                                                                                                                                                                                                                                                                                                                                                                                                                                                                                                                                                                                                                                                                                                                                                                                                                                                                                                                                                                                                                             \n"
     ]
    }
   ],
   "source": [
    "with fits.open('combined_dark_300.000.fits') as hdul:\n",
    "    print(hdul[0].header)"
   ]
  },
  {
   "cell_type": "code",
   "execution_count": 5,
   "metadata": {},
   "outputs": [
    {
     "name": "stdout",
     "output_type": "stream",
     "text": [
      "SIMPLE  =                    T / conforms to FITS standard                      BITPIX  =                  -32 / array data type                                NAXIS   =                    2 / number of array dimensions                     NAXIS1  =                 4109                                                  NAXIS2  =                 4096                                                  DATE-OBS= '2018-05-31T22:55:20' /YYYY-MM-DDThh:mm:ss observation start, UT      EXPTIME =   1000.0000000000000 /Exposure time in seconds                        EXPOSURE=   1000.0000000000000 /Exposure time in seconds                        SET-TEMP=  -20.000000000000000 /CCD temperature setpoint in C                   CCD-TEMP=  -20.016216000000000 /CCD temperature at start of exposure in C       XPIXSZ  =   9.0000000000000000 /Pixel Width in microns (after binning)          YPIXSZ  =   9.0000000000000000 /Pixel Height in microns (after binning)         XBINNING=                    1 /Binning factor in width                         YBINNING=                    1 /Binning factor in height                        XORGSUBF=                    0 /Subframe X position in binned pixels            YORGSUBF=                    0 /Subframe Y position in binned pixels            READOUTM= 'Monochrome' /        Readout mode of image                           IMAGETYP= 'DARK    ' /          Type of image                                   FOCALLEN=  0.00000000000000000 /Focal length of telescope in mm                 APTDIA  =  0.00000000000000000 /Aperture diameter of telescope in mm            APTAREA =  0.00000000000000000 /Aperture area of telescope in mm^2              SWCREATE= 'MaxIm DL Version 6.17 190601 00KPP' /Name of software                SWSERIAL= '00KPP-F3HN8-9JMTJ-1CE5W-A4AX5-F3' /Software serial number            JD      =   2458270.4550925926 /Julian Date at start of exposure                JD-HELIO=   2458270.4588948423 /Heliocentric Julian Date at exposure midpoint   OBJECT  = 'dark-test'                                                           TELESCOP= '        ' /          telescope used to acquire this image            INSTRUME= 'AspenCG16' /         instrument or camera used                       OBSERVER= '        '                                                            NOTES   = '        '                                                            FLIPSTAT= '        '                                                            SWOWNER = 'Matt Craig' /        Licensed owner of software                      HIERARCH SUBTRACT_BIAS = 'subbias ' / Shortened name for ccdproc command        SUBBIAS = 'ccd=<CCDData>, master=<CCDData>'                                     BUNIT   = 'adu     '                                                            MASTER  =                    T                                                  END                                                                                                                                                                                                                                                                                                                                                                                                                                                                                                                                                                                                                                                                                                                                                                                                                                                                                                                                                                                                                                                                                                                                                                                                                                                                                                                                                                                                                                                                                                                                                                                                                                                                                                                                                                                                                                                                                                                                                                                                                                                                                                                                                                                                                                                                                                                                                                                                                                                                                                                                                                                                                                                                                                                                                                                                                                                                                                                                                                                             \n"
     ]
    }
   ],
   "source": [
    "with fits.open('combined_dark_exposure_1000.0.fit') as hdul:\n",
    "    print(hdul[0].header)"
   ]
  },
  {
   "cell_type": "code",
   "execution_count": 8,
   "metadata": {},
   "outputs": [
    {
     "name": "stdout",
     "output_type": "stream",
     "text": [
      "0\n",
      "1\n",
      "2\n",
      "3\n",
      "4\n"
     ]
    }
   ],
   "source": [
    "for i in range(5):\n",
    "    print(i)"
   ]
  }
 ],
 "metadata": {
  "kernelspec": {
   "display_name": "Python 3.8.13 ('brezi-env')",
   "language": "python",
   "name": "python3"
  },
  "language_info": {
   "codemirror_mode": {
    "name": "ipython",
    "version": 3
   },
   "file_extension": ".py",
   "mimetype": "text/x-python",
   "name": "python",
   "nbconvert_exporter": "python",
   "pygments_lexer": "ipython3",
   "version": "3.8.13"
  },
  "orig_nbformat": 4,
  "vscode": {
   "interpreter": {
    "hash": "50b63378fec4551b47ec94d70f68162ba1e65d9f46c81222a4a6f6b0bb7dd6c1"
   }
  }
 },
 "nbformat": 4,
 "nbformat_minor": 2
}
