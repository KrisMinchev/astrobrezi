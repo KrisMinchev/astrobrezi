{
 "cells": [
  {
   "cell_type": "markdown",
   "metadata": {},
   "source": [
    "Pipeline process for initial CCD processing of images. Uses the *AstroPy* coordinated package `ccdproc`."
   ]
  },
  {
   "cell_type": "code",
   "execution_count": 1,
   "metadata": {},
   "outputs": [],
   "source": [
    "## Imports copied from original pipeline, edit as seems fit.\n",
    "%matplotlib inline\n",
    "import matplotlib.pyplot as plt\n",
    "# plt.style.use(\"guide.mplstyle\")\n",
    "\n",
    "import numpy as np\n",
    "from pathlib import Path\n",
    "import ccdproc as ccdp\n",
    "from ccdproc import ImageFileCollection\n",
    "from astropy.stats import mad_std\n",
    "from astropy import units as u"
   ]
  },
  {
   "cell_type": "markdown",
   "metadata": {},
   "source": [
    "Specify the working directories. Create target directory if not already present."
   ]
  },
  {
   "cell_type": "code",
   "execution_count": 2,
   "metadata": {},
   "outputs": [],
   "source": [
    "# Load cleaned data directory. If no separate directory exists, assume the raw\n",
    "# data already satisfies the criteria and load from there.\n",
    "if Path('data-cleaned').exists():\n",
    "    data_directory = Path('data-cleaned')\n",
    "else:\n",
    "    data_directory = Path('data')\n",
    "\n",
    "# Calibrated data target directory\n",
    "data_calibrated = Path('data-reduced')\n",
    "# Make sure this directory exists; exist_ok means this line does nothing if\n",
    "# already created this folder.\n",
    "data_calibrated.mkdir(exist_ok=True)"
   ]
  },
  {
   "cell_type": "markdown",
   "metadata": {},
   "source": [
    "Load images directory"
   ]
  },
  {
   "cell_type": "code",
   "execution_count": 3,
   "metadata": {},
   "outputs": [],
   "source": [
    "# Load images in ImageFileCollection - convenient way to manage an inventory\n",
    "# provided by *ccdproc*.\n",
    "data_collection = ImageFileCollection(data_directory)"
   ]
  },
  {
   "cell_type": "markdown",
   "metadata": {},
   "source": [
    "## Combine darks for all available exposure times."
   ]
  },
  {
   "cell_type": "code",
   "execution_count": 4,
   "metadata": {},
   "outputs": [
    {
     "name": "stderr",
     "output_type": "stream",
     "text": [
      "WARNING: FITSFixedWarning: 'datfix' made the change 'Set MJD-OBS to 59786.056690 from DATE-OBS'. [astropy.wcs.wcs]\n",
      "WARNING:astropy:FITSFixedWarning: 'datfix' made the change 'Set MJD-OBS to 59786.056690 from DATE-OBS'.\n",
      "WARNING: FITSFixedWarning: 'datfix' made the change 'Set MJD-OBS to 59786.056782 from DATE-OBS'. [astropy.wcs.wcs]\n",
      "WARNING:astropy:FITSFixedWarning: 'datfix' made the change 'Set MJD-OBS to 59786.056782 from DATE-OBS'.\n",
      "WARNING: FITSFixedWarning: 'datfix' made the change 'Set MJD-OBS to 59786.056875 from DATE-OBS'. [astropy.wcs.wcs]\n",
      "WARNING:astropy:FITSFixedWarning: 'datfix' made the change 'Set MJD-OBS to 59786.056875 from DATE-OBS'.\n",
      "WARNING: FITSFixedWarning: 'datfix' made the change 'Set MJD-OBS to 59786.056956 from DATE-OBS'. [astropy.wcs.wcs]\n",
      "WARNING:astropy:FITSFixedWarning: 'datfix' made the change 'Set MJD-OBS to 59786.056956 from DATE-OBS'.\n",
      "WARNING: FITSFixedWarning: 'datfix' made the change 'Set MJD-OBS to 59786.057049 from DATE-OBS'. [astropy.wcs.wcs]\n",
      "WARNING:astropy:FITSFixedWarning: 'datfix' made the change 'Set MJD-OBS to 59786.057049 from DATE-OBS'.\n",
      "WARNING: FITSFixedWarning: 'datfix' made the change 'Set MJD-OBS to 59785.917708 from DATE-OBS'. [astropy.wcs.wcs]\n",
      "WARNING:astropy:FITSFixedWarning: 'datfix' made the change 'Set MJD-OBS to 59785.917708 from DATE-OBS'.\n",
      "WARNING: FITSFixedWarning: 'datfix' made the change 'Set MJD-OBS to 59785.919826 from DATE-OBS'. [astropy.wcs.wcs]\n",
      "WARNING:astropy:FITSFixedWarning: 'datfix' made the change 'Set MJD-OBS to 59785.919826 from DATE-OBS'.\n",
      "WARNING: FITSFixedWarning: 'datfix' made the change 'Set MJD-OBS to 59785.921933 from DATE-OBS'. [astropy.wcs.wcs]\n",
      "WARNING:astropy:FITSFixedWarning: 'datfix' made the change 'Set MJD-OBS to 59785.921933 from DATE-OBS'.\n"
     ]
    }
   ],
   "source": [
    "# Dark combine - follow the procedure given in the *ccdproc* manual at \n",
    "# https://www.astropy.org/ccd-reduction-and-photometry-guide/v/dev/notebooks/03-06-Combine-darks-for-use-in-later-calibration-steps.html\n",
    "\n",
    "\n",
    "# Find all unique exposure times of dark frames\n",
    "matches_dark = data_collection.summary['imagetyp'] == 'DARK'\n",
    "exptime_list = np.unique(data_collection.summary['exptime'][matches_dark])\n",
    "\n",
    "# Function that produces a master dark given exposure time\n",
    "def produce_master_dark(exp):\n",
    "    \"\"\"Fucntion that produces a master dark given exposure time. Utilises the \n",
    "    capabilities of `ccdproc.ImageFileCollection`. The `ccdproc.combine` uses\n",
    "    parameters recommended in the manual of the package\n",
    "\n",
    "    Parameters\n",
    "    ----------\n",
    "    exp : float or numpy.float64\n",
    "        Exposure time of darks to be combined in a master dark.\n",
    "    \"\"\"\n",
    "    # Select images: darks with given exptime\n",
    "    cleaned_darks = data_collection.files_filtered(imagetyp='dark', exptime=exp,\n",
    "                                                    include_path=True)\n",
    "    # combine images\n",
    "    combined_dark = ccdp.combine(cleaned_darks,\n",
    "                                method='average',\n",
    "                                sigma_clip=True, sigma_clip_low_thresh=5, sigma_clip_high_thresh=5,\n",
    "                                sigma_clip_func=np.ma.median, signma_clip_dev_func=mad_std,\n",
    "                                mem_limit=350e6\n",
    "                                )\n",
    "    # record master dark\n",
    "    combined_dark.meta['combined'] = True\n",
    "    dark_file_name = 'combined_dark_{}s.fit'.format(int(exp))\n",
    "    combined_dark.write(data_calibrated / dark_file_name, overwrite=True)\n",
    "\n",
    "# Produce a master dark for each unique exposure time\n",
    "for time in exptime_list:\n",
    "    produce_master_dark(time)"
   ]
  },
  {
   "cell_type": "markdown",
   "metadata": {},
   "source": [
    "Load the combined darks to subtract from science (and calibration) images."
   ]
  },
  {
   "cell_type": "code",
   "execution_count": 5,
   "metadata": {},
   "outputs": [],
   "source": [
    "# codewords for science images\n",
    "science_imagetyp = 'light'\n",
    "calib_imagetyp = 'calib'\n",
    "exposure = 'exptime'\n",
    "\n",
    "# Load the collection with master darks and to record to dark subtracted science.\n",
    "reduced_collection = ccdp.ImageFileCollection(data_calibrated)"
   ]
  },
  {
   "cell_type": "markdown",
   "metadata": {},
   "source": [
    "Check we loaded images correctly"
   ]
  },
  {
   "cell_type": "code",
   "execution_count": 6,
   "metadata": {},
   "outputs": [
    {
     "data": {
      "text/html": [
       "<div><i>Table length=4</i>\n",
       "<table id=\"table2035639899280\" class=\"table-striped table-bordered table-condensed\">\n",
       "<thead><tr><th>date-obs</th><th>file</th><th>object</th><th>filter</th><th>exptime</th></tr></thead>\n",
       "<thead><tr><th>str23</th><th>str17</th><th>str1</th><th>str4</th><th>float64</th></tr></thead>\n",
       "<tr><td>2021-08-12T23:05:39.000</td><td>vega-180s-001.fit</td><td></td><td>None</td><td>180.0</td></tr>\n",
       "<tr><td>2021-08-12T23:08:42.000</td><td>vega-180s-002.fit</td><td></td><td>None</td><td>180.0</td></tr>\n",
       "<tr><td>2021-08-12T23:11:44.000</td><td>vega-180s-003.fit</td><td></td><td>None</td><td>180.0</td></tr>\n",
       "<tr><td>2021-08-12T23:14:47.000</td><td>vega-180s-004.fit</td><td></td><td>None</td><td>180.0</td></tr>\n",
       "</table></div>"
      ],
      "text/plain": [
       "<Table length=4>\n",
       "        date-obs               file       object filter exptime\n",
       "         str23                str17        str1   str4  float64\n",
       "----------------------- ----------------- ------ ------ -------\n",
       "2021-08-12T23:05:39.000 vega-180s-001.fit          None   180.0\n",
       "2021-08-12T23:08:42.000 vega-180s-002.fit          None   180.0\n",
       "2021-08-12T23:11:44.000 vega-180s-003.fit          None   180.0\n",
       "2021-08-12T23:14:47.000 vega-180s-004.fit          None   180.0"
      ]
     },
     "execution_count": 6,
     "metadata": {},
     "output_type": "execute_result"
    }
   ],
   "source": [
    "lights = data_collection.summary[data_collection.summary['imagetyp'] == science_imagetyp.upper()]\n",
    "lights['date-obs', 'file', 'object', 'filter', exposure]"
   ]
  },
  {
   "cell_type": "code",
   "execution_count": 7,
   "metadata": {},
   "outputs": [
    {
     "data": {
      "text/html": [
       "<div><i>Table length=2</i>\n",
       "<table id=\"table2035639902160\" class=\"table-striped table-bordered table-condensed\">\n",
       "<thead><tr><th>date-obs</th><th>file</th><th>imagetyp</th><th>filter</th><th>exptime</th></tr></thead>\n",
       "<thead><tr><th>str23</th><th>str22</th><th>str5</th><th>str4</th><th>float64</th></tr></thead>\n",
       "<tr><td>2022-07-25T22:01:30.000</td><td>combined_dark_180s.fit</td><td>DARK</td><td>None</td><td>180.0</td></tr>\n",
       "<tr><td>2022-07-26T01:21:38.000</td><td>combined_dark_5s.fit</td><td>DARK</td><td>None</td><td>5.0</td></tr>\n",
       "</table></div>"
      ],
      "text/plain": [
       "<Table length=2>\n",
       "        date-obs                 file          imagetyp filter exptime\n",
       "         str23                  str22            str5    str4  float64\n",
       "----------------------- ---------------------- -------- ------ -------\n",
       "2022-07-25T22:01:30.000 combined_dark_180s.fit     DARK   None   180.0\n",
       "2022-07-26T01:21:38.000   combined_dark_5s.fit     DARK   None     5.0"
      ]
     },
     "execution_count": 7,
     "metadata": {},
     "output_type": "execute_result"
    }
   ],
   "source": [
    "combo_calibs = reduced_collection.summary[reduced_collection.summary['combined'].filled(False).astype('bool')]\n",
    "combo_calibs['date-obs', 'file', 'imagetyp', 'filter', exposure]"
   ]
  },
  {
   "cell_type": "code",
   "execution_count": 8,
   "metadata": {},
   "outputs": [
    {
     "name": "stderr",
     "output_type": "stream",
     "text": [
      "WARNING: FITSFixedWarning: 'datfix' made the change 'Set MJD-OBS to 59785.917708 from DATE-OBS'. [astropy.wcs.wcs]\n",
      "WARNING:astropy:FITSFixedWarning: 'datfix' made the change 'Set MJD-OBS to 59785.917708 from DATE-OBS'.\n",
      "WARNING: FITSFixedWarning: 'datfix' made the change 'Set MJD-OBS to 59786.056690 from DATE-OBS'. [astropy.wcs.wcs]\n",
      "WARNING:astropy:FITSFixedWarning: 'datfix' made the change 'Set MJD-OBS to 59786.056690 from DATE-OBS'.\n"
     ]
    }
   ],
   "source": [
    "# Dictionary with exposure time -> master dark\n",
    "combined_darks = {ccd.header[exposure]: ccd for ccd in reduced_collection.ccds(imagetyp='dark', combined=True)}"
   ]
  },
  {
   "cell_type": "code",
   "execution_count": 9,
   "metadata": {},
   "outputs": [
    {
     "name": "stderr",
     "output_type": "stream",
     "text": [
      "WARNING: FITSFixedWarning: 'datfix' made the change 'Set MJD-OBS to 59438.962257 from DATE-OBS'. [astropy.wcs.wcs]\n",
      "WARNING:astropy:FITSFixedWarning: 'datfix' made the change 'Set MJD-OBS to 59438.962257 from DATE-OBS'.\n",
      "WARNING: FITSFixedWarning: 'datfix' made the change 'Set MJD-OBS to 59438.964375 from DATE-OBS'. [astropy.wcs.wcs]\n",
      "WARNING:astropy:FITSFixedWarning: 'datfix' made the change 'Set MJD-OBS to 59438.964375 from DATE-OBS'.\n",
      "WARNING: FITSFixedWarning: 'datfix' made the change 'Set MJD-OBS to 59438.966481 from DATE-OBS'. [astropy.wcs.wcs]\n",
      "WARNING:astropy:FITSFixedWarning: 'datfix' made the change 'Set MJD-OBS to 59438.966481 from DATE-OBS'.\n",
      "WARNING: FITSFixedWarning: 'datfix' made the change 'Set MJD-OBS to 59438.968600 from DATE-OBS'. [astropy.wcs.wcs]\n",
      "WARNING:astropy:FITSFixedWarning: 'datfix' made the change 'Set MJD-OBS to 59438.968600 from DATE-OBS'.\n"
     ]
    }
   ],
   "source": [
    "all_reds_sci = []\n",
    "light_ccds_sci = []\n",
    "for light, file_name in data_collection.ccds(imagetyp=science_imagetyp, return_fname=True):\n",
    "    light_ccds_sci.append(light)\n",
    "    \n",
    "    # reduced = ccdp.trim_image(light[:, :4096])\n",
    "    \n",
    "    # Note that the first argument in the remainder of the ccdproc calls is\n",
    "    # the *reduced* image, so that the calibration steps are cumulative.\n",
    "    # reduced = ccdp.subtract_bias(light, combined_bias)\n",
    "    \n",
    "    # closest_dark = find_nearest_dark_exposure(reduced, combined_darks.keys())\n",
    "\n",
    "    reduced = ccdp.subtract_dark(light, combined_darks[light.header['EXPTIME']], \n",
    "                                 exposure_time='exptime', exposure_unit=u.second)\n",
    "    \n",
    "    # good_flat = combined_flats[reduced.header['filter']]\n",
    "    # reduced = ccdp.flat_correct(reduced, good_flat)\n",
    "    all_reds_sci.append(reduced)\n",
    "    reduced.write(data_calibrated / file_name, overwrite=True)"
   ]
  },
  {
   "cell_type": "code",
   "execution_count": 10,
   "metadata": {},
   "outputs": [
    {
     "data": {
      "text/html": [
       "<div><i>Table length=3</i>\n",
       "<table id=\"table2035639753312\" class=\"table-striped table-bordered table-condensed\">\n",
       "<thead><tr><th>date-obs</th><th>file</th><th>object</th><th>filter</th><th>exptime</th></tr></thead>\n",
       "<thead><tr><th>str23</th><th>str17</th><th>str1</th><th>str4</th><th>float64</th></tr></thead>\n",
       "<tr><td>2022-07-25T21:56:36.000</td><td>--</td><td></td><td>None</td><td>5.0</td></tr>\n",
       "<tr><td>2022-07-25T21:56:44.000</td><td>--</td><td></td><td>None</td><td>5.0</td></tr>\n",
       "<tr><td>2022-07-25T21:56:52.000</td><td>--</td><td></td><td>None</td><td>5.0</td></tr>\n",
       "</table></div>"
      ],
      "text/plain": [
       "<Table length=3>\n",
       "        date-obs         file object filter exptime\n",
       "         str23          str17  str1   str4  float64\n",
       "----------------------- ----- ------ ------ -------\n",
       "2022-07-25T21:56:36.000    --          None     5.0\n",
       "2022-07-25T21:56:44.000    --          None     5.0\n",
       "2022-07-25T21:56:52.000    --          None     5.0"
      ]
     },
     "execution_count": 10,
     "metadata": {},
     "output_type": "execute_result"
    }
   ],
   "source": [
    "calibs = data_collection.summary[data_collection.summary['imagetyp'] == calib_imagetyp.upper()]\n",
    "calibs['date-obs', 'file', 'object', 'filter', exposure]"
   ]
  },
  {
   "cell_type": "code",
   "execution_count": 11,
   "metadata": {},
   "outputs": [
    {
     "name": "stderr",
     "output_type": "stream",
     "text": [
      "WARNING: FITSFixedWarning: 'datfix' made the change 'Set MJD-OBS to 59785.914306 from DATE-OBS'. [astropy.wcs.wcs]\n",
      "WARNING:astropy:FITSFixedWarning: 'datfix' made the change 'Set MJD-OBS to 59785.914306 from DATE-OBS'.\n",
      "WARNING: FITSFixedWarning: 'datfix' made the change 'Set MJD-OBS to 59785.914398 from DATE-OBS'. [astropy.wcs.wcs]\n",
      "WARNING:astropy:FITSFixedWarning: 'datfix' made the change 'Set MJD-OBS to 59785.914398 from DATE-OBS'.\n",
      "WARNING: FITSFixedWarning: 'datfix' made the change 'Set MJD-OBS to 59785.914491 from DATE-OBS'. [astropy.wcs.wcs]\n",
      "WARNING:astropy:FITSFixedWarning: 'datfix' made the change 'Set MJD-OBS to 59785.914491 from DATE-OBS'.\n"
     ]
    }
   ],
   "source": [
    "all_reds_cal = []\n",
    "light_ccds_cal = []\n",
    "for calib, file_name in data_collection.ccds(imagetyp=calib_imagetyp, return_fname=True):\n",
    "    light_ccds_cal.append(calib)\n",
    "    \n",
    "    # reduced = ccdp.trim_image(light[:, :4096])\n",
    "    \n",
    "    # Note that the first argument in the remainder of the ccdproc calls is\n",
    "    # the *reduced* image, so that the calibration steps are cumulative.\n",
    "    # reduced = ccdp.subtract_bias(light, combined_bias)\n",
    "    \n",
    "    # closest_dark = find_nearest_dark_exposure(reduced, combined_darks.keys())\n",
    "\n",
    "    reduced = ccdp.subtract_dark(calib, combined_darks[calib.header['EXPTIME']], \n",
    "                                 exposure_time='exptime', exposure_unit=u.second)\n",
    "    \n",
    "    # good_flat = combined_flats[reduced.header['filter']]\n",
    "    # reduced = ccdp.flat_correct(reduced, good_flat)\n",
    "    all_reds_cal.append(reduced)\n",
    "    reduced.write(data_calibrated / file_name, overwrite=True)"
   ]
  }
 ],
 "metadata": {
  "kernelspec": {
   "display_name": "Python 3.8.13 ('brezi-env')",
   "language": "python",
   "name": "python3"
  },
  "language_info": {
   "codemirror_mode": {
    "name": "ipython",
    "version": 3
   },
   "file_extension": ".py",
   "mimetype": "text/x-python",
   "name": "python",
   "nbconvert_exporter": "python",
   "pygments_lexer": "ipython3",
   "version": "3.8.13"
  },
  "orig_nbformat": 4,
  "vscode": {
   "interpreter": {
    "hash": "50b63378fec4551b47ec94d70f68162ba1e65d9f46c81222a4a6f6b0bb7dd6c1"
   }
  }
 },
 "nbformat": 4,
 "nbformat_minor": 2
}
