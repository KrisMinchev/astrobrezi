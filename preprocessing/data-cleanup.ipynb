{
 "cells": [
  {
   "attachments": {},
   "cell_type": "markdown",
   "metadata": {},
   "source": [
    "# Data Cleanup\n",
    "This file prepares the fits files for the automatic reduction pipeline process. For more info, see the README in parent directory."
   ]
  },
  {
   "cell_type": "code",
   "execution_count": 1,
   "metadata": {},
   "outputs": [],
   "source": [
    "# Imports for the job\n",
    "\n",
    "# for fits file operations\n",
    "from astropy.io import fits\n",
    "# for working with file systems\n",
    "from pathlib import Path\n",
    "# for tesitng the result of our work\n",
    "from ccdproc import ImageFileCollection"
   ]
  },
  {
   "attachments": {},
   "cell_type": "markdown",
   "metadata": {},
   "source": [
    "Specify the working directories. Create target if not already there."
   ]
  },
  {
   "cell_type": "code",
   "execution_count": 2,
   "metadata": {},
   "outputs": [],
   "source": [
    "# Raw data directory\n",
    "data_raw = Path('data')\n",
    "\n",
    "# Cleaned data target directory\n",
    "data_cleaned = Path('data-cleaned')\n",
    "# Make sure this directory exists; exist_ok means this line does nothing if\n",
    "# already created this folder.\n",
    "data_cleaned.mkdir(exist_ok=True)"
   ]
  },
  {
   "attachments": {},
   "cell_type": "markdown",
   "metadata": {},
   "source": [
    "### Cleanup process.\n",
    "\n",
    "Here, it will be important how each file is called. Need to **EDIT** per the specific collection of images."
   ]
  },
  {
   "cell_type": "code",
   "execution_count": 3,
   "metadata": {},
   "outputs": [],
   "source": [
    "# Include image type in header for fits - useful for filtering during\n",
    "# processing. Save the modified files in a new directory called data-cleaned.\n",
    "# Currently, it is done manually ONLY.\n",
    "\n",
    "# list of (image_name_pattern, num_image, type_image) to be prepared\n",
    "dict_files = [\n",
    "    ('Dark-5s-00{}.FIT', 5, 'DARK'),\n",
    "    ('Dark-180s-00{}.FIT', 3, 'DARK'),\n",
    "    ('gCas-360s-00{}.FIT', 3, 'LIGHT'),\n",
    "    ('Lamp-5s-00{}.FIT', 3, 'CALIB'),\n",
    "    ('vega-180s-00{}.FIT', 4, 'LIGHT')\n",
    "]\n",
    "\n",
    "# generalised function definition - rewrites the files with header added\n",
    "def assign_imagetyp(pattern, num_img, imagetyp):\n",
    "    \"\"\"Wrapper of writing 'imagetyp' to fits and saving in new directory.\n",
    "\n",
    "    Parameters\n",
    "    ----------\n",
    "    pattern : string\n",
    "        Pattern to match the names. Has to have a {} for formatting.\n",
    "    num_img : int\n",
    "        Number of images following the pattern. NOTE: currently, only \n",
    "        implemented for number of images LESS than 10!\n",
    "    imagetyp : string\n",
    "        The imagetyp to be assigned to the files following the naming pattern.\n",
    "    \"\"\"\n",
    "    image_name_read = [pattern.format(x+1) for x in range(num_img)]\n",
    "    image_name_write = [(pattern.format(x+1)).lower() for x in range(num_img)]\n",
    "\n",
    "    for i in range(num_img):\n",
    "        with fits.open(data_raw / image_name_read[i]) as hdul:\n",
    "            hdr = hdul[0].header\n",
    "            hdr['imagetyp'] = imagetyp\n",
    "            hdr['bunit'] = 'adu' # needed for image arithmetic with ccdproc\n",
    "            hdul.writeto(data_cleaned / image_name_write[i], overwrite=True)\n",
    "\n",
    "# apply function to our images\n",
    "for entry in dict_files:\n",
    "    assign_imagetyp(entry[0], entry[1], entry[2])"
   ]
  },
  {
   "cell_type": "code",
   "execution_count": 4,
   "metadata": {},
   "outputs": [
    {
     "data": {
      "text/html": [
       "<div><i>Table masked=True length=18</i>\n",
       "<table id=\"table2490277101968\" class=\"table-striped table-bordered table-condensed\">\n",
       "<thead><tr><th>file</th><th>simple</th><th>bitpix</th><th>naxis</th><th>naxis1</th><th>naxis2</th><th>object</th><th>telescop</th><th>instrume</th><th>observer</th><th>date-obs</th><th>bscale</th><th>bzero</th><th>exptime</th><th>ccd-temp</th><th>xpixsz</th><th>ypixsz</th><th>xbinning</th><th>ybinning</th><th>xorgsubf</th><th>yorgsubf</th><th>egain</th><th>focallen</th><th>aptdia</th><th>aptarea</th><th>cblack</th><th>cwhite</th><th>pedestal</th><th>datamax</th><th>sbstdver</th><th>swacquir</th><th>swcreate</th><th>filter</th><th>snapshot</th><th>date</th><th>resmode</th><th>expstate</th><th>response</th><th>note</th><th>imagetyp</th><th>bunit</th></tr></thead>\n",
       "<thead><tr><th>str17</th><th>bool</th><th>int32</th><th>int32</th><th>int32</th><th>int32</th><th>str1</th><th>str17</th><th>str11</th><th>str15</th><th>str23</th><th>int32</th><th>int32</th><th>float64</th><th>float64</th><th>float64</th><th>float64</th><th>int32</th><th>int32</th><th>int32</th><th>int32</th><th>float64</th><th>float64</th><th>float64</th><th>float64</th><th>int32</th><th>int32</th><th>int32</th><th>int32</th><th>str21</th><th>str26</th><th>str39</th><th>str4</th><th>int32</th><th>str10</th><th>int32</th><th>str3</th><th>float64</th><th>str31</th><th>str5</th><th>str3</th></tr></thead>\n",
       "<tr><td>dark-180s-001.fit</td><td>True</td><td>16</td><td>2</td><td>1530</td><td>1020</td><td></td><td>Unknown Telescope</td><td>SBIG ST-402</td><td>Observer&apos;s Name</td><td>2022-07-25T22:01:30.000</td><td>1</td><td>32768</td><td>180.0</td><td>-7.301899046322</td><td>9.0</td><td>9.0</td><td>1</td><td>1</td><td>0</td><td>0</td><td>1.54</td><td>2032.0</td><td>203.2</td><td>27868.912004</td><td>996</td><td>1125</td><td>-100</td><td>65535</td><td>SBFITSEXT Version 1.0</td><td>WinOPS Ver 5.47 Build 6-NT</td><td>SBIG Win CCDOPS Version 5.47 Build 6-NT</td><td>None</td><td>1</td><td>2022-07-25</td><td>0</td><td>125</td><td>3000.0</td><td>Local time:7/26/2022 at 1:01:30</td><td>DARK</td><td>adu</td></tr>\n",
       "<tr><td>dark-180s-002.fit</td><td>True</td><td>16</td><td>2</td><td>1530</td><td>1020</td><td></td><td>Unknown Telescope</td><td>SBIG ST-402</td><td>Observer&apos;s Name</td><td>2022-07-25T22:04:33.000</td><td>1</td><td>32768</td><td>180.0</td><td>-7.301899046322</td><td>9.0</td><td>9.0</td><td>1</td><td>1</td><td>0</td><td>0</td><td>1.54</td><td>2032.0</td><td>203.2</td><td>27868.912004</td><td>996</td><td>1125</td><td>-100</td><td>65535</td><td>SBFITSEXT Version 1.0</td><td>WinOPS Ver 5.47 Build 6-NT</td><td>SBIG Win CCDOPS Version 5.47 Build 6-NT</td><td>None</td><td>1</td><td>2022-07-25</td><td>0</td><td>125</td><td>3000.0</td><td>Local time:7/26/2022 at 1:04:33</td><td>DARK</td><td>adu</td></tr>\n",
       "<tr><td>dark-180s-003.fit</td><td>True</td><td>16</td><td>2</td><td>1530</td><td>1020</td><td></td><td>Unknown Telescope</td><td>SBIG ST-402</td><td>Observer&apos;s Name</td><td>2022-07-25T22:07:35.000</td><td>1</td><td>32768</td><td>180.0</td><td>-7.301899046322</td><td>9.0</td><td>9.0</td><td>1</td><td>1</td><td>0</td><td>0</td><td>1.54</td><td>2032.0</td><td>203.2</td><td>27868.912004</td><td>996</td><td>1125</td><td>-100</td><td>65535</td><td>SBFITSEXT Version 1.0</td><td>WinOPS Ver 5.47 Build 6-NT</td><td>SBIG Win CCDOPS Version 5.47 Build 6-NT</td><td>None</td><td>1</td><td>2022-07-25</td><td>0</td><td>125</td><td>3000.0</td><td>Local time:7/26/2022 at 1:07:35</td><td>DARK</td><td>adu</td></tr>\n",
       "<tr><td>dark-5s-001.fit</td><td>True</td><td>16</td><td>2</td><td>1530</td><td>1020</td><td></td><td>Unknown Telescope</td><td>SBIG ST-402</td><td>Observer&apos;s Name</td><td>2022-07-26T01:21:38.000</td><td>1</td><td>32768</td><td>5.0</td><td>-7.301899046322</td><td>9.0</td><td>9.0</td><td>1</td><td>1</td><td>0</td><td>0</td><td>1.54</td><td>2032.0</td><td>203.2</td><td>27868.912004</td><td>1000</td><td>1129</td><td>-100</td><td>65535</td><td>SBFITSEXT Version 1.0</td><td>WinOPS Ver 5.47 Build 6-NT</td><td>SBIG Win CCDOPS Version 5.47 Build 6-NT</td><td>None</td><td>1</td><td>2022-07-26</td><td>0</td><td>125</td><td>3000.0</td><td>Local time:7/26/2022 at 4:21:38</td><td>DARK</td><td>adu</td></tr>\n",
       "<tr><td>dark-5s-002.fit</td><td>True</td><td>16</td><td>2</td><td>1530</td><td>1020</td><td></td><td>Unknown Telescope</td><td>SBIG ST-402</td><td>Observer&apos;s Name</td><td>2022-07-26T01:21:46.000</td><td>1</td><td>32768</td><td>5.0</td><td>-7.301899046322</td><td>9.0</td><td>9.0</td><td>1</td><td>1</td><td>0</td><td>0</td><td>1.54</td><td>2032.0</td><td>203.2</td><td>27868.912004</td><td>1000</td><td>1129</td><td>-100</td><td>65535</td><td>SBFITSEXT Version 1.0</td><td>WinOPS Ver 5.47 Build 6-NT</td><td>SBIG Win CCDOPS Version 5.47 Build 6-NT</td><td>None</td><td>1</td><td>2022-07-26</td><td>0</td><td>125</td><td>3000.0</td><td>Local time:7/26/2022 at 4:21:46</td><td>DARK</td><td>adu</td></tr>\n",
       "<tr><td>dark-5s-003.fit</td><td>True</td><td>16</td><td>2</td><td>1530</td><td>1020</td><td></td><td>Unknown Telescope</td><td>SBIG ST-402</td><td>Observer&apos;s Name</td><td>2022-07-26T01:21:54.000</td><td>1</td><td>32768</td><td>5.0</td><td>-7.301899046322</td><td>9.0</td><td>9.0</td><td>1</td><td>1</td><td>0</td><td>0</td><td>1.54</td><td>2032.0</td><td>203.2</td><td>27868.912004</td><td>1000</td><td>1129</td><td>-100</td><td>65535</td><td>SBFITSEXT Version 1.0</td><td>WinOPS Ver 5.47 Build 6-NT</td><td>SBIG Win CCDOPS Version 5.47 Build 6-NT</td><td>None</td><td>1</td><td>2022-07-26</td><td>0</td><td>125</td><td>3000.0</td><td>Local time:7/26/2022 at 4:21:54</td><td>DARK</td><td>adu</td></tr>\n",
       "<tr><td>dark-5s-004.fit</td><td>True</td><td>16</td><td>2</td><td>1530</td><td>1020</td><td></td><td>Unknown Telescope</td><td>SBIG ST-402</td><td>Observer&apos;s Name</td><td>2022-07-26T01:22:01.000</td><td>1</td><td>32768</td><td>5.0</td><td>-7.301899046322</td><td>9.0</td><td>9.0</td><td>1</td><td>1</td><td>0</td><td>0</td><td>1.54</td><td>2032.0</td><td>203.2</td><td>27868.912004</td><td>1000</td><td>1129</td><td>-100</td><td>65535</td><td>SBFITSEXT Version 1.0</td><td>WinOPS Ver 5.47 Build 6-NT</td><td>SBIG Win CCDOPS Version 5.47 Build 6-NT</td><td>None</td><td>1</td><td>2022-07-26</td><td>0</td><td>125</td><td>3000.0</td><td>Local time:7/26/2022 at 4:22:01</td><td>DARK</td><td>adu</td></tr>\n",
       "<tr><td>dark-5s-005.fit</td><td>True</td><td>16</td><td>2</td><td>1530</td><td>1020</td><td></td><td>Unknown Telescope</td><td>SBIG ST-402</td><td>Observer&apos;s Name</td><td>2022-07-26T01:22:09.000</td><td>1</td><td>32768</td><td>5.0</td><td>-7.301899046322</td><td>9.0</td><td>9.0</td><td>1</td><td>1</td><td>0</td><td>0</td><td>1.54</td><td>2032.0</td><td>203.2</td><td>27868.912004</td><td>1000</td><td>1129</td><td>-100</td><td>65535</td><td>SBFITSEXT Version 1.0</td><td>WinOPS Ver 5.47 Build 6-NT</td><td>SBIG Win CCDOPS Version 5.47 Build 6-NT</td><td>None</td><td>1</td><td>2022-07-26</td><td>0</td><td>125</td><td>3000.0</td><td>Local time:7/26/2022 at 4:22:09</td><td>DARK</td><td>adu</td></tr>\n",
       "<tr><td>gcas-360s-001.fit</td><td>True</td><td>16</td><td>2</td><td>1530</td><td>1020</td><td></td><td>Unknown Telescope</td><td>SBIG ST-402</td><td>Observer&apos;s Name</td><td>2022-07-26T00:19:56.000</td><td>1</td><td>32768</td><td>360.0</td><td>-6.888051704092</td><td>9.0</td><td>9.0</td><td>1</td><td>1</td><td>0</td><td>0</td><td>1.54</td><td>2032.0</td><td>203.2</td><td>27868.912004</td><td>870</td><td>2339</td><td>-100</td><td>65535</td><td>SBFITSEXT Version 1.0</td><td>WinOPS Ver 5.47 Build 6-NT</td><td>SBIG Win CCDOPS Version 5.47 Build 6-NT</td><td>None</td><td>1</td><td>2022-07-26</td><td>0</td><td>125</td><td>3000.0</td><td>Local time:7/26/2022 at 3:19:56</td><td>LIGHT</td><td>adu</td></tr>\n",
       "<tr><td>gcas-360s-002.fit</td><td>True</td><td>16</td><td>2</td><td>1530</td><td>1020</td><td></td><td>Unknown Telescope</td><td>SBIG ST-402</td><td>Observer&apos;s Name</td><td>2022-07-26T00:25:59.000</td><td>1</td><td>32768</td><td>360.0</td><td>-6.888051704092</td><td>9.0</td><td>9.0</td><td>1</td><td>1</td><td>0</td><td>0</td><td>1.54</td><td>2032.0</td><td>203.2</td><td>27868.912004</td><td>877</td><td>2267</td><td>-100</td><td>65535</td><td>SBFITSEXT Version 1.0</td><td>WinOPS Ver 5.47 Build 6-NT</td><td>SBIG Win CCDOPS Version 5.47 Build 6-NT</td><td>None</td><td>1</td><td>2022-07-26</td><td>0</td><td>125</td><td>3000.0</td><td>Local time:7/26/2022 at 3:25:59</td><td>LIGHT</td><td>adu</td></tr>\n",
       "<tr><td>gcas-360s-003.fit</td><td>True</td><td>16</td><td>2</td><td>1530</td><td>1020</td><td></td><td>Unknown Telescope</td><td>SBIG ST-402</td><td>Observer&apos;s Name</td><td>2022-07-26T00:32:02.000</td><td>1</td><td>32768</td><td>360.0</td><td>-6.888051704092</td><td>9.0</td><td>9.0</td><td>1</td><td>1</td><td>0</td><td>0</td><td>1.54</td><td>2032.0</td><td>203.2</td><td>27868.912004</td><td>848</td><td>2533</td><td>-100</td><td>65535</td><td>SBFITSEXT Version 1.0</td><td>WinOPS Ver 5.47 Build 6-NT</td><td>SBIG Win CCDOPS Version 5.47 Build 6-NT</td><td>None</td><td>1</td><td>2022-07-26</td><td>0</td><td>125</td><td>3000.0</td><td>Local time:7/26/2022 at 3:32:02</td><td>LIGHT</td><td>adu</td></tr>\n",
       "<tr><td>lamp-5s-001.fit</td><td>True</td><td>16</td><td>2</td><td>1530</td><td>1020</td><td></td><td>Unknown Telescope</td><td>SBIG ST-402</td><td>Observer&apos;s Name</td><td>2022-07-25T21:56:36.000</td><td>1</td><td>32768</td><td>5.0</td><td>-6.888051704092</td><td>9.0</td><td>9.0</td><td>1</td><td>1</td><td>0</td><td>0</td><td>1.54</td><td>2032.0</td><td>203.2</td><td>27868.912004</td><td>734</td><td>3514</td><td>-100</td><td>65535</td><td>SBFITSEXT Version 1.0</td><td>WinOPS Ver 5.47 Build 6-NT</td><td>SBIG Win CCDOPS Version 5.47 Build 6-NT</td><td>None</td><td>1</td><td>2022-07-25</td><td>0</td><td>125</td><td>3000.0</td><td>Local time:7/26/2022 at 0:56:36</td><td>CALIB</td><td>adu</td></tr>\n",
       "<tr><td>lamp-5s-002.fit</td><td>True</td><td>16</td><td>2</td><td>1530</td><td>1020</td><td></td><td>Unknown Telescope</td><td>SBIG ST-402</td><td>Observer&apos;s Name</td><td>2022-07-25T21:56:44.000</td><td>1</td><td>32768</td><td>5.0</td><td>-6.888051704092</td><td>9.0</td><td>9.0</td><td>1</td><td>1</td><td>0</td><td>0</td><td>1.54</td><td>2032.0</td><td>203.2</td><td>27868.912004</td><td>734</td><td>3519</td><td>-100</td><td>65535</td><td>SBFITSEXT Version 1.0</td><td>WinOPS Ver 5.47 Build 6-NT</td><td>SBIG Win CCDOPS Version 5.47 Build 6-NT</td><td>None</td><td>1</td><td>2022-07-25</td><td>0</td><td>125</td><td>3000.0</td><td>Local time:7/26/2022 at 0:56:44</td><td>CALIB</td><td>adu</td></tr>\n",
       "<tr><td>lamp-5s-003.fit</td><td>True</td><td>16</td><td>2</td><td>1530</td><td>1020</td><td></td><td>Unknown Telescope</td><td>SBIG ST-402</td><td>Observer&apos;s Name</td><td>2022-07-25T21:56:52.000</td><td>1</td><td>32768</td><td>5.0</td><td>-6.888051704092</td><td>9.0</td><td>9.0</td><td>1</td><td>1</td><td>0</td><td>0</td><td>1.54</td><td>2032.0</td><td>203.2</td><td>27868.912004</td><td>734</td><td>3519</td><td>-100</td><td>65535</td><td>SBFITSEXT Version 1.0</td><td>WinOPS Ver 5.47 Build 6-NT</td><td>SBIG Win CCDOPS Version 5.47 Build 6-NT</td><td>None</td><td>1</td><td>2022-07-25</td><td>0</td><td>125</td><td>3000.0</td><td>Local time:7/26/2022 at 0:56:52</td><td>CALIB</td><td>adu</td></tr>\n",
       "<tr><td>vega-180s-001.fit</td><td>True</td><td>16</td><td>2</td><td>1530</td><td>1020</td><td></td><td>Unknown Telescope</td><td>SBIG ST-402</td><td>Observer&apos;s Name</td><td>2021-08-12T23:05:39.000</td><td>1</td><td>32768</td><td>180.0</td><td>-4.817803680962</td><td>9.0</td><td>9.0</td><td>1</td><td>1</td><td>0</td><td>0</td><td>1.54</td><td>2032.0</td><td>203.2</td><td>27868.912004</td><td>876</td><td>2240</td><td>-100</td><td>65535</td><td>SBFITSEXT Version 1.0</td><td>WinOPS Ver 5.47 Build 6-NT</td><td>SBIG Win CCDOPS Version 5.47 Build 6-NT</td><td>None</td><td>1</td><td>2021-08-12</td><td>259</td><td>125</td><td>3000.0</td><td>Local time:8/13/2021 at 2:05:39</td><td>LIGHT</td><td>adu</td></tr>\n",
       "<tr><td>vega-180s-002.fit</td><td>True</td><td>16</td><td>2</td><td>1530</td><td>1020</td><td></td><td>Unknown Telescope</td><td>SBIG ST-402</td><td>Observer&apos;s Name</td><td>2021-08-12T23:08:42.000</td><td>1</td><td>32768</td><td>180.0</td><td>-4.817803680962</td><td>9.0</td><td>9.0</td><td>1</td><td>1</td><td>0</td><td>0</td><td>1.54</td><td>2032.0</td><td>203.2</td><td>27868.912004</td><td>869</td><td>2299</td><td>-100</td><td>65535</td><td>SBFITSEXT Version 1.0</td><td>WinOPS Ver 5.47 Build 6-NT</td><td>SBIG Win CCDOPS Version 5.47 Build 6-NT</td><td>None</td><td>1</td><td>2021-08-12</td><td>259</td><td>125</td><td>3000.0</td><td>Local time:8/13/2021 at 2:08:42</td><td>LIGHT</td><td>adu</td></tr>\n",
       "<tr><td>vega-180s-003.fit</td><td>True</td><td>16</td><td>2</td><td>1530</td><td>1020</td><td></td><td>Unknown Telescope</td><td>SBIG ST-402</td><td>Observer&apos;s Name</td><td>2021-08-12T23:11:44.000</td><td>1</td><td>32768</td><td>180.0</td><td>-4.817803680962</td><td>9.0</td><td>9.0</td><td>1</td><td>1</td><td>0</td><td>0</td><td>1.54</td><td>2032.0</td><td>203.2</td><td>27868.912004</td><td>818</td><td>2762</td><td>-100</td><td>65535</td><td>SBFITSEXT Version 1.0</td><td>WinOPS Ver 5.47 Build 6-NT</td><td>SBIG Win CCDOPS Version 5.47 Build 6-NT</td><td>None</td><td>1</td><td>2021-08-12</td><td>259</td><td>125</td><td>3000.0</td><td>Local time:8/13/2021 at 2:11:44</td><td>LIGHT</td><td>adu</td></tr>\n",
       "<tr><td>vega-180s-004.fit</td><td>True</td><td>16</td><td>2</td><td>1530</td><td>1020</td><td></td><td>Unknown Telescope</td><td>SBIG ST-402</td><td>Observer&apos;s Name</td><td>2021-08-12T23:14:47.000</td><td>1</td><td>32768</td><td>180.0</td><td>-4.817803680962</td><td>9.0</td><td>9.0</td><td>1</td><td>1</td><td>0</td><td>0</td><td>1.54</td><td>2032.0</td><td>203.2</td><td>27868.912004</td><td>819</td><td>2750</td><td>-100</td><td>65535</td><td>SBFITSEXT Version 1.0</td><td>WinOPS Ver 5.47 Build 6-NT</td><td>SBIG Win CCDOPS Version 5.47 Build 6-NT</td><td>None</td><td>1</td><td>2021-08-12</td><td>259</td><td>125</td><td>3000.0</td><td>Local time:8/13/2021 at 2:14:47</td><td>LIGHT</td><td>adu</td></tr>\n",
       "</table></div>"
      ],
      "text/plain": [
       "<Table masked=True length=18>\n",
       "       file       simple bitpix ... imagetyp bunit\n",
       "      str17        bool  int32  ...   str5    str3\n",
       "----------------- ------ ------ ... -------- -----\n",
       "dark-180s-001.fit   True     16 ...     DARK   adu\n",
       "dark-180s-002.fit   True     16 ...     DARK   adu\n",
       "dark-180s-003.fit   True     16 ...     DARK   adu\n",
       "  dark-5s-001.fit   True     16 ...     DARK   adu\n",
       "  dark-5s-002.fit   True     16 ...     DARK   adu\n",
       "  dark-5s-003.fit   True     16 ...     DARK   adu\n",
       "  dark-5s-004.fit   True     16 ...     DARK   adu\n",
       "  dark-5s-005.fit   True     16 ...     DARK   adu\n",
       "gcas-360s-001.fit   True     16 ...    LIGHT   adu\n",
       "gcas-360s-002.fit   True     16 ...    LIGHT   adu\n",
       "gcas-360s-003.fit   True     16 ...    LIGHT   adu\n",
       "  lamp-5s-001.fit   True     16 ...    CALIB   adu\n",
       "  lamp-5s-002.fit   True     16 ...    CALIB   adu\n",
       "  lamp-5s-003.fit   True     16 ...    CALIB   adu\n",
       "vega-180s-001.fit   True     16 ...    LIGHT   adu\n",
       "vega-180s-002.fit   True     16 ...    LIGHT   adu\n",
       "vega-180s-003.fit   True     16 ...    LIGHT   adu\n",
       "vega-180s-004.fit   True     16 ...    LIGHT   adu"
      ]
     },
     "execution_count": 4,
     "metadata": {},
     "output_type": "execute_result"
    }
   ],
   "source": [
    "# Check we made a good job.\n",
    "# Again, modify as fit.\n",
    "\n",
    "im_collection = ImageFileCollection(data_cleaned)\n",
    "im_collection.summary"
   ]
  }
 ],
 "metadata": {
  "kernelspec": {
   "display_name": "Python 3.8.13 ('brezi-env')",
   "language": "python",
   "name": "python3"
  },
  "language_info": {
   "codemirror_mode": {
    "name": "ipython",
    "version": 3
   },
   "file_extension": ".py",
   "mimetype": "text/x-python",
   "name": "python",
   "nbconvert_exporter": "python",
   "pygments_lexer": "ipython3",
   "version": "3.8.13"
  },
  "orig_nbformat": 4,
  "vscode": {
   "interpreter": {
    "hash": "50b63378fec4551b47ec94d70f68162ba1e65d9f46c81222a4a6f6b0bb7dd6c1"
   }
  }
 },
 "nbformat": 4,
 "nbformat_minor": 2
}
