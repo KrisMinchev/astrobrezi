{
 "cells": [
  {
   "cell_type": "code",
   "execution_count": 17,
   "metadata": {},
   "outputs": [
    {
     "data": {
      "text/plain": [
       "('HD 190429', 20, 3, 29.4, '+', 36, 1, 31, 6.78, 6.63, 'O4If+', 'hd190429a.dat', '')"
      ]
     },
     "execution_count": 17,
     "metadata": {},
     "output_type": "execute_result"
    }
   ],
   "source": [
    "from specutils import Spectrum1D\n",
    "from astropy.io import fits\n",
    "\n",
    "with fits.open('./III_181_stars.dat.fits') as hdul:\n",
    "    # hdul.info()\n",
    "    data = hdul[1].data\n",
    "    pass\n",
    "data[0]\n",
    "# cols = hdul[1].columns\n",
    "# cols.info()\n",
    "# spec1d = Spectrum1D.read('./III_181_stars.dat.fits')\n",
    "\n",
    "# import matplotlib.pyplot as plt\n",
    "\n",
    "# plt.figure()\n",
    "# plt.plot(spec1d.spectral_axis, spec1d.flux)"
   ]
  },
  {
   "cell_type": "code",
   "execution_count": 27,
   "metadata": {},
   "outputs": [],
   "source": [
    "import pandas as pd\n",
    "\n",
    "spec_raw = pd.read_csv('./hr6060.dat.txt', sep='-', header=None)\n",
    "spec_raw.columns = ['Lambda', 'Flux']"
   ]
  },
  {
   "cell_type": "code",
   "execution_count": 29,
   "metadata": {},
   "outputs": [
    {
     "data": {
      "text/plain": [
       "[<matplotlib.lines.Line2D at 0x7f5817227010>]"
      ]
     },
     "execution_count": 29,
     "metadata": {},
     "output_type": "execute_result"
    },
    {
     "data": {
      "image/png": "[encoded data removed]",
      "text/plain": [
       "<Figure size 432x288 with 1 Axes>"
      ]
     },
     "metadata": {
      "needs_background": "light"
     },
     "output_type": "display_data"
    }
   ],
   "source": [
    "import astropy.units as u\n",
    "from specutils.spectra import Spectrum1D\n",
    "import matplotlib.pyplot as plt\n",
    "from specutils.manipulation import median_smooth\n",
    "\n",
    "# flux unit NOT REAL - hack to allow Spectrum1D to load since it has to be\n",
    "# astropy type Quantity\n",
    "flux = spec_raw['Flux'].to_numpy() * u.Jy\n",
    "wavelength = spec_raw['Lambda'].to_numpy()* u.AA\n",
    "\n",
    "# initialise spectrum\n",
    "spec1d_raw = Spectrum1D(spectral_axis=wavelength, flux=flux)\n",
    "\n",
    "# smoothening to remove cosmic rays; increase WIDTH until removed\n",
    "# TODO improve to do properly, not this stupid way\n",
    "spec1d = median_smooth(spec1d_raw, width=7)\n",
    "\n",
    "# plot to see loaded spectrum\n",
    "ax = plt.subplots()[1]\n",
    "ax.plot(spec1d.spectral_axis, spec1d.flux)"
   ]
  }
 ],
 "metadata": {
  "kernelspec": {
   "display_name": "Python 3.10.5 ('brezi-env')",
   "language": "python",
   "name": "python3"
  },
  "language_info": {
   "codemirror_mode": {
    "name": "ipython",
    "version": 3
   },
   "file_extension": ".py",
   "mimetype": "text/x-python",
   "name": "python",
   "nbconvert_exporter": "python",
   "pygments_lexer": "ipython3",
   "version": "3.10.5"
  },
  "orig_nbformat": 4,
  "vscode": {
   "interpreter": {
    "hash": "0b1e4489af18395342b95bf162210a8bc6f6c21b74db0d398c9090ead8928cb9"
   }
  }
 },
 "nbformat": 4,
 "nbformat_minor": 2
}
