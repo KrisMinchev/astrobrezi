{
 "cells": [
  {
   "cell_type": "code",
   "execution_count": 2,
   "metadata": {},
   "outputs": [],
   "source": [
    "luci_mask = \"./conf/masks/lhires-2400l-1785mm.mdf\"\n",
    "luci1 = \"./conf/instruments/lhires-III-Halpha.icf\"\n",
    "luci_file = \"./data-reduced/lamp-180s-001.fits\""
   ]
  },
  {
   "cell_type": "code",
   "execution_count": 23,
   "metadata": {},
   "outputs": [
    {
     "name": "stdout",
     "output_type": "stream",
     "text": [
      "INFO: Loaded instrument configuration from ./conf/instruments/lhires-III-Halpha.icf [spectrapy.models.instrument]\n",
      "INFO: Loaded mask from ./conf/masks/lhires-2400l-1785mm.mdf [spectrapy.mask.mask]\n"
     ]
    }
   ],
   "source": [
    "from spectrapy.modelscalib.calib import ModelsCalibration\n",
    "\n",
    "calib = ModelsCalibration(luci1, mask=luci_mask)\n",
    "\n"
   ]
  },
  {
   "cell_type": "code",
   "execution_count": 24,
   "metadata": {},
   "outputs": [
    {
     "name": "stdout",
     "output_type": "stream",
     "text": [
      "INFO: Optical model center: 765.00, 510.00 [spectrapy.models.optmodel]\n",
      "INFO: Optical model scales: x 346.26, y 96.95 [spectrapy.models.optmodel]\n"
     ]
    }
   ],
   "source": [
    "calib.load_image(luci_file)\n",
    "\n",
    "opt = calib.new_opt_model(1, 1)\n",
    "\n",
    "calib.plot_opt_model(edit=True)\n"
   ]
  },
  {
   "cell_type": "code",
   "execution_count": 25,
   "metadata": {},
   "outputs": [
    {
     "name": "stdout",
     "output_type": "stream",
     "text": [
      "INFO: Fitting mask [mm] positions vs region [pixel] positions [spectrapy.modelscalib.optcalib]\n",
      "INFO: X model coeffs: chi2=inf R2=1 [spectrapy.models.optmodel]\n",
      "INFO: Y model coeffs: chi2=inf R2=1 [spectrapy.models.optmodel]\n",
      "INFO: Optical Model updated [spectrapy.models.optmodel]\n"
     ]
    },
    {
     "name": "stderr",
     "output_type": "stream",
     "text": [
      "/home/brezi-spec/anaconda3/envs/brezi-env/lib/python3.10/site-packages/spectrapy-1.0.1-py3.10-linux-x86_64.egg/spectrapy/math/poly.py:131: RuntimeWarning: divide by zero encountered in double_scalars\n",
      "  chi2 = resids / (len(X) - nparam)\n"
     ]
    }
   ],
   "source": [
    "calib.fit_opt_model()\n",
    "opt.writeto('examples/tmp/lhires.opt', overwrite=True)"
   ]
  },
  {
   "cell_type": "markdown",
   "metadata": {},
   "source": [
    "curvature model calibration"
   ]
  },
  {
   "cell_type": "code",
   "execution_count": 5,
   "metadata": {},
   "outputs": [
    {
     "name": "stdout",
     "output_type": "stream",
     "text": [
      "INFO: Loaded instrument configuration from ./conf/instruments/lhires-III-Halpha.icf [spectrapy.models.instrument]\n",
      "INFO: Loaded mask from ./conf/masks/lhires-2400l-1785mm.mdf [spectrapy.mask.mask]\n",
      "INFO: Loaded Optical Model from ./examples/tmp/lhires.opt [spectrapy.models.optmodel]\n"
     ]
    }
   ],
   "source": [
    "opt = './examples/tmp/lhires.opt'\n",
    "from spectrapy.modelscalib.calib import ModelsCalibration\n",
    "calib = ModelsCalibration(luci1, mask=luci_mask, opt=opt)\n",
    "crv = calib.new_crv_model(2,0,1)"
   ]
  },
  {
   "cell_type": "code",
   "execution_count": 6,
   "metadata": {},
   "outputs": [],
   "source": [
    "calib.set_trace_limits(700, 700)\n",
    "calib.load_image(luci_file)\n",
    "calib.plot_crv_model(7, pos=(0, 1))"
   ]
  },
  {
   "cell_type": "code",
   "execution_count": 7,
   "metadata": {},
   "outputs": [
    {
     "name": "stdout",
     "output_type": "stream",
     "text": [
      "INFO: Reloading trace positions from regions [spectrapy.modelscalib.crvcalib]\n",
      "INFO: Global curvature model coeffs 0: chi2=-8.635e-33 R2=1 [spectrapy.models.crvmodel]\n",
      "INFO: Global curvature model coeffs 1: chi2=-7.902e-31 R2=1 [spectrapy.models.crvmodel]\n",
      "INFO: Global curvature model coeffs 2: chi2=-20.3 R2=1 [spectrapy.models.crvmodel]\n"
     ]
    }
   ],
   "source": [
    "calib.fit_crv_model()"
   ]
  },
  {
   "cell_type": "code",
   "execution_count": 8,
   "metadata": {},
   "outputs": [],
   "source": [
    "crv.writeto(\"./examples/tmp/lhires.crv\", overwrite=True)"
   ]
  },
  {
   "cell_type": "markdown",
   "metadata": {},
   "source": [
    "inverse dispersion solution calibration"
   ]
  },
  {
   "cell_type": "code",
   "execution_count": 9,
   "metadata": {},
   "outputs": [
    {
     "name": "stdout",
     "output_type": "stream",
     "text": [
      "INFO: Loaded instrument configuration from ./conf/instruments/lhires-III-Halpha.icf [spectrapy.models.instrument]\n",
      "INFO: Loaded mask from ./conf/masks/lhires-2400l-1785mm.mdf [spectrapy.mask.mask]\n",
      "INFO: Loaded Optical Model from ./examples/tmp/lhires.opt [spectrapy.models.optmodel]\n",
      "INFO: Loaded CRV model from ./examples/tmp/lhires.crv [spectrapy.models.crvmodel]\n"
     ]
    }
   ],
   "source": [
    "crv = \"./examples/tmp/lhires.crv\"\n",
    "calib = ModelsCalibration(luci1, mask=luci_mask, opt=opt, crv=crv)"
   ]
  },
  {
   "cell_type": "code",
   "execution_count": 20,
   "metadata": {},
   "outputs": [],
   "source": [
    "ids = calib.new_ids_model(1, 0, 2)"
   ]
  },
  {
   "cell_type": "code",
   "execution_count": 21,
   "metadata": {},
   "outputs": [],
   "source": [
    "sky_cat = \"./conf/catalogs/lhires_halpha.dat\"\n",
    "calib.load_image(luci_file)\n",
    "calib.plot_ids_model(sky_cat, wstart=6500., nsplit = 7)"
   ]
  },
  {
   "cell_type": "code",
   "execution_count": 22,
   "metadata": {},
   "outputs": [
    {
     "name": "stdout",
     "output_type": "stream",
     "text": [
      "INFO: Global curvature model coeffs 0: chi2=0.01376 R2=0.4965 [spectrapy.models.crvmodel]\n",
      "INFO: Global curvature model coeffs 1: chi2=0.02241 R2=0.9991 [spectrapy.models.crvmodel]\n"
     ]
    }
   ],
   "source": [
    "calib.fit_ids_model()"
   ]
  },
  {
   "cell_type": "code",
   "execution_count": 23,
   "metadata": {},
   "outputs": [],
   "source": [
    "calib.plot_ids_model(sky_cat, nsplit=20)"
   ]
  },
  {
   "cell_type": "code",
   "execution_count": 24,
   "metadata": {},
   "outputs": [
    {
     "name": "stdout",
     "output_type": "stream",
     "text": [
      "INFO: Saved IDS model in ./examples/tmp/lhires.ids [spectrapy.models.idsmodel]\n"
     ]
    }
   ],
   "source": [
    "ids.writeto(\"./examples/tmp/lhires.ids\", overwrite=True)"
   ]
  },
  {
   "cell_type": "markdown",
   "metadata": {},
   "source": [
    "## model data tuning\n",
    "\n",
    "curvature model data tuning"
   ]
  },
  {
   "cell_type": "code",
   "execution_count": 25,
   "metadata": {},
   "outputs": [
    {
     "name": "stdout",
     "output_type": "stream",
     "text": [
      "INFO: Loaded instrument configuration from ./conf/instruments/lhires-III-Halpha.icf [spectrapy.models.instrument]\n",
      "INFO: Loaded mask from ./conf/masks/lhires-2400l-1785mm.mdf [spectrapy.mask.mask]\n",
      "INFO: Loaded Optical Model from ./examples/tmp/lhires.opt [spectrapy.models.optmodel]\n",
      "INFO: Loaded CRV model from ./examples/tmp/lhires.crv [spectrapy.models.crvmodel]\n"
     ]
    }
   ],
   "source": [
    "mask = \"./conf/masks/lhires-2400l-1785mm.mdf\"\n",
    "inst = \"./conf/instruments/lhires-III-Halpha.icf\"\n",
    "sc_file = \"./data-reduced/gCas-360s-001.fits\"\n",
    "\n",
    "opt = \"./examples/tmp/lhires.opt\"\n",
    "crv = \"./examples/tmp/lhires.crv\"\n",
    "\n",
    "from spectrapy.datacalib.tracingcalib import TraceCalibration\n",
    "trace_calib = TraceCalibration(inst, mask, opt, crv)\n",
    "\n",
    "trace_calib.set_trace_limits(500, 1000)\n",
    "\n",
    "trace_calib.load_image(sc_file)\n",
    "\n",
    "trace_calib.compute_spectra_traces(slit_win=20, pix_bin=50, right=True)"
   ]
  },
  {
   "cell_type": "code",
   "execution_count": 26,
   "metadata": {},
   "outputs": [
    {
     "name": "stdout",
     "output_type": "stream",
     "text": [
      "INFO: Global curvature model coeffs 0: chi2=-1.008e-31 R2=1 [spectrapy.models.crvmodel]\n",
      "INFO: Global curvature model coeffs 1: chi2=-2.3e-33 R2=1 [spectrapy.models.crvmodel]\n",
      "INFO: Global curvature model coeffs 2: chi2=-1.059e-32 R2=1 [spectrapy.models.crvmodel]\n"
     ]
    }
   ],
   "source": [
    "trace_calib.fit_crv_model()"
   ]
  },
  {
   "cell_type": "code",
   "execution_count": 27,
   "metadata": {},
   "outputs": [],
   "source": [
    "trace_calib.plot_crv_model(100, pos=(0, 0.325, 1))\n",
    "trace_calib.writeto(\"./examples/tmp/lhires.data.crv\", overwrite=True)"
   ]
  },
  {
   "cell_type": "markdown",
   "metadata": {},
   "source": [
    "IDS data tuning"
   ]
  },
  {
   "cell_type": "code",
   "execution_count": 28,
   "metadata": {},
   "outputs": [
    {
     "name": "stdout",
     "output_type": "stream",
     "text": [
      "INFO: Loaded instrument configuration from ./conf/instruments/lhires-III-Halpha.icf [spectrapy.models.instrument]\n",
      "INFO: Loaded mask from ./conf/masks/lhires-2400l-1785mm.mdf [spectrapy.mask.mask]\n",
      "INFO: Loaded Optical Model from ./examples/tmp/lhires.opt [spectrapy.models.optmodel]\n",
      "INFO: Loaded CRV model from ./examples/tmp/lhires.data.crv [spectrapy.models.crvmodel]\n",
      "INFO: Loaded IDS model from ./examples/tmp/lhires.ids [spectrapy.models.idsmodel]\n",
      "INFO: New lambda range: [6480.00, 6650.00] [spectrapy.datacalib.wavelengthcalib]\n",
      "INFO: Calibrating slit test... [spectrapy.datacalib.wavelengthcalib]\n",
      "INFO: Extraction table created [spectrapy.datacalib.wavelengthcalib]\n"
     ]
    }
   ],
   "source": [
    "mask = \"./conf/masks/lhires-2400l-1785mm.mdf\"\n",
    "inst = \"./conf/instruments/lhires-III-Halpha.icf\"\n",
    "file = \"./data-reduced/lamp-180s-001.fits\"\n",
    "\n",
    "crv = \"./examples/tmp/lhires.data.crv\"\n",
    "\n",
    "opt = \"./examples/tmp/lhires.opt\"\n",
    "ids = \"./examples/tmp/lhires.ids\"\n",
    "\n",
    "from spectrapy.datacalib.wavelengthcalib import WavelengthCalibration\n",
    "wave_calib = WavelengthCalibration(inst, mask, opt, crv, ids)\n",
    "wave_calib.set_lambda_range(6480., 6650.)\n",
    "wave_calib.load_image(file)\n",
    "sky_cat = \"./conf/catalogs/lhires_halpha.dat\"\n",
    "\n",
    "exr = wave_calib.compute_spectra_wave(sky_cat)"
   ]
  },
  {
   "cell_type": "code",
   "execution_count": 29,
   "metadata": {},
   "outputs": [
    {
     "name": "stdout",
     "output_type": "stream",
     "text": [
      "INFO: Saved extraction table: ./examples/tmp/lhires.exr [spectrapy.datacalib.extractiontable]\n"
     ]
    }
   ],
   "source": [
    "exr.writeto(\"./examples/tmp/lhires.exr\")"
   ]
  },
  {
   "cell_type": "markdown",
   "metadata": {},
   "source": [
    "## spectra extraction"
   ]
  },
  {
   "cell_type": "markdown",
   "metadata": {},
   "source": [
    "extraction table rectification"
   ]
  },
  {
   "cell_type": "code",
   "execution_count": 30,
   "metadata": {},
   "outputs": [
    {
     "name": "stdout",
     "output_type": "stream",
     "text": [
      "INFO: Loaded extraction table from ./examples/tmp/lhires.exr [spectrapy.datacalib.extractiontable]\n",
      "INFO: Processing slit test... [spectrapy.datacalib.extractiontable]\n",
      "INFO: Done [spectrapy.datacalib.extractiontable]\n"
     ]
    }
   ],
   "source": [
    "from spectrapy.datacalib.extractiontable import ExtTable\n",
    "exr = ExtTable.load(\"./examples/tmp/lhires.exr\")\n",
    "exr.rectify(deg=2, margin=1)"
   ]
  },
  {
   "cell_type": "markdown",
   "metadata": {},
   "source": [
    "spectra extraction"
   ]
  },
  {
   "cell_type": "code",
   "execution_count": 31,
   "metadata": {},
   "outputs": [
    {
     "name": "stderr",
     "output_type": "stream",
     "text": [
      "WARNING: Cython version used! Ignored radius and pix_sample parameters. [spectrapy.extraction.exponentialfilter]\n"
     ]
    }
   ],
   "source": [
    "from spectrapy.extraction.exponentialfilter import ExponentialFilter\n",
    "engine = ExponentialFilter(5, 1000)"
   ]
  },
  {
   "cell_type": "code",
   "execution_count": 32,
   "metadata": {},
   "outputs": [],
   "source": [
    "engine.set_extraction_range(6480., 6650., 0.12)"
   ]
  },
  {
   "cell_type": "code",
   "execution_count": 45,
   "metadata": {},
   "outputs": [
    {
     "name": "stdout",
     "output_type": "stream",
     "text": [
      "INFO: Loaded extraction table from ./examples/tmp/lhires.exr [spectrapy.datacalib.extractiontable]\n",
      "INFO: Extracting object test... [spectrapy.extraction.exponentialfilter]\n"
     ]
    }
   ],
   "source": [
    "from spectrapy.datacalib.extractiontable import ExtTable\n",
    "#Load the extraction table and rectify it\n",
    "exr=ExtTable.load('./examples/tmp/lhires.exr')\n",
    "\n",
    "#Extract the spectra\n",
    "science = \"./data-reduced/saturn-180s-001.fits\"\n",
    "spectra2d = engine.extract(exr, science, row_start=350, row_end=480)\n",
    "\n",
    "spectra2d.writeto(\"./saturn-extr.fits\", overwrite=True)"
   ]
  },
  {
   "cell_type": "code",
   "execution_count": 43,
   "metadata": {},
   "outputs": [
    {
     "ename": "ValueError",
     "evalue": "No table found",
     "output_type": "error",
     "traceback": [
      "\u001b[0;31m---------------------------------------------------------------------------\u001b[0m",
      "\u001b[0;31mValueError\u001b[0m                                Traceback (most recent call last)",
      "\u001b[1;32m/home/brezi-spec/workspace-spectra/spectra2022/20220725/spectrapy-test.ipynb Cell 31\u001b[0m in \u001b[0;36m<cell line: 3>\u001b[0;34m()\u001b[0m\n\u001b[1;32m      <a href='vscode-notebook-cell:/home/brezi-spec/workspace-spectra/spectra2022/20220725/spectrapy-test.ipynb#ch0000033?line=0'>1</a>\u001b[0m \u001b[39mfrom\u001b[39;00m \u001b[39mspecutils\u001b[39;00m \u001b[39mimport\u001b[39;00m Spectrum1D\n\u001b[0;32m----> <a href='vscode-notebook-cell:/home/brezi-spec/workspace-spectra/spectra2022/20220725/spectrapy-test.ipynb#ch0000033?line=2'>3</a>\u001b[0m spec1d \u001b[39m=\u001b[39m Spectrum1D\u001b[39m.\u001b[39;49mread(\u001b[39m\"\u001b[39;49m\u001b[39m./gCas-extr.fits\u001b[39;49m\u001b[39m\"\u001b[39;49m, \u001b[39mformat\u001b[39;49m\u001b[39m=\u001b[39;49m\u001b[39m\"\u001b[39;49m\u001b[39mtabular-fits\u001b[39;49m\u001b[39m\"\u001b[39;49m)\n",
      "File \u001b[0;32m~/anaconda3/envs/brezi-env/lib/python3.10/site-packages/astropy/nddata/mixins/ndio.py:59\u001b[0m, in \u001b[0;36mNDDataRead.__call__\u001b[0;34m(self, *args, **kwargs)\u001b[0m\n\u001b[1;32m     58\u001b[0m \u001b[39mdef\u001b[39;00m \u001b[39m__call__\u001b[39m(\u001b[39mself\u001b[39m, \u001b[39m*\u001b[39margs, \u001b[39m*\u001b[39m\u001b[39m*\u001b[39mkwargs):\n\u001b[0;32m---> 59\u001b[0m     \u001b[39mreturn\u001b[39;00m \u001b[39mself\u001b[39;49m\u001b[39m.\u001b[39;49mregistry\u001b[39m.\u001b[39;49mread(\u001b[39mself\u001b[39;49m\u001b[39m.\u001b[39;49m_cls, \u001b[39m*\u001b[39;49margs, \u001b[39m*\u001b[39;49m\u001b[39m*\u001b[39;49mkwargs)\n",
      "File \u001b[0;32m~/anaconda3/envs/brezi-env/lib/python3.10/site-packages/astropy/io/registry/core.py:212\u001b[0m, in \u001b[0;36mUnifiedInputRegistry.read\u001b[0;34m(self, cls, format, cache, *args, **kwargs)\u001b[0m\n\u001b[1;32m    208\u001b[0m     \u001b[39mformat\u001b[39m \u001b[39m=\u001b[39m \u001b[39mself\u001b[39m\u001b[39m.\u001b[39m_get_valid_format(\n\u001b[1;32m    209\u001b[0m         \u001b[39m'\u001b[39m\u001b[39mread\u001b[39m\u001b[39m'\u001b[39m, \u001b[39mcls\u001b[39m, path, fileobj, args, kwargs)\n\u001b[1;32m    211\u001b[0m reader \u001b[39m=\u001b[39m \u001b[39mself\u001b[39m\u001b[39m.\u001b[39mget_reader(\u001b[39mformat\u001b[39m, \u001b[39mcls\u001b[39m)\n\u001b[0;32m--> 212\u001b[0m data \u001b[39m=\u001b[39m reader(\u001b[39m*\u001b[39;49margs, \u001b[39m*\u001b[39;49m\u001b[39m*\u001b[39;49mkwargs)\n\u001b[1;32m    214\u001b[0m \u001b[39mif\u001b[39;00m \u001b[39mnot\u001b[39;00m \u001b[39misinstance\u001b[39m(data, \u001b[39mcls\u001b[39m):\n\u001b[1;32m    215\u001b[0m     \u001b[39m# User has read with a subclass where only the parent class is\u001b[39;00m\n\u001b[1;32m    216\u001b[0m     \u001b[39m# registered.  This returns the parent class, so try coercing\u001b[39;00m\n\u001b[1;32m    217\u001b[0m     \u001b[39m# to desired subclass.\u001b[39;00m\n\u001b[1;32m    218\u001b[0m     \u001b[39mtry\u001b[39;00m:\n",
      "File \u001b[0;32m~/anaconda3/envs/brezi-env/lib/python3.10/site-packages/specutils/io/default_loaders/tabular_fits.py:74\u001b[0m, in \u001b[0;36mtabular_fits_loader\u001b[0;34m(file_obj, column_mapping, hdu, **kwargs)\u001b[0m\n\u001b[1;32m     71\u001b[0m \u001b[39mwith\u001b[39;00m read_fileobj_or_hdulist(file_obj, \u001b[39m*\u001b[39m\u001b[39m*\u001b[39mkwargs) \u001b[39mas\u001b[39;00m hdulist:\n\u001b[1;32m     72\u001b[0m     wcs \u001b[39m=\u001b[39m WCS(hdulist[hdu]\u001b[39m.\u001b[39mheader)\n\u001b[0;32m---> 74\u001b[0m tab \u001b[39m=\u001b[39m Table\u001b[39m.\u001b[39;49mread(file_obj, \u001b[39mformat\u001b[39;49m\u001b[39m=\u001b[39;49m\u001b[39m'\u001b[39;49m\u001b[39mfits\u001b[39;49m\u001b[39m'\u001b[39;49m, hdu\u001b[39m=\u001b[39;49mhdu)\n\u001b[1;32m     76\u001b[0m \u001b[39m# Minimal checks for wcs consistency with table data -\u001b[39;00m\n\u001b[1;32m     77\u001b[0m \u001b[39m# assume 1D spectral axis (having shape (0, NAXIS1),\u001b[39;00m\n\u001b[1;32m     78\u001b[0m \u001b[39m# or alternatively compare against shape of 1st column.\u001b[39;00m\n\u001b[1;32m     79\u001b[0m \u001b[39mif\u001b[39;00m \u001b[39mnot\u001b[39;00m (wcs\u001b[39m.\u001b[39mnaxis \u001b[39m==\u001b[39m \u001b[39m1\u001b[39m \u001b[39mand\u001b[39;00m wcs\u001b[39m.\u001b[39marray_shape[\u001b[39m-\u001b[39m\u001b[39m1\u001b[39m] \u001b[39m==\u001b[39m \u001b[39mlen\u001b[39m(tab) \u001b[39mor\u001b[39;00m\n\u001b[1;32m     80\u001b[0m         wcs\u001b[39m.\u001b[39marray_shape \u001b[39m==\u001b[39m tab[tab\u001b[39m.\u001b[39mcolnames[\u001b[39m0\u001b[39m]]\u001b[39m.\u001b[39mshape):\n",
      "File \u001b[0;32m~/anaconda3/envs/brezi-env/lib/python3.10/site-packages/astropy/table/connect.py:62\u001b[0m, in \u001b[0;36mTableRead.__call__\u001b[0;34m(self, *args, **kwargs)\u001b[0m\n\u001b[1;32m     59\u001b[0m units \u001b[39m=\u001b[39m kwargs\u001b[39m.\u001b[39mpop(\u001b[39m'\u001b[39m\u001b[39munits\u001b[39m\u001b[39m'\u001b[39m, \u001b[39mNone\u001b[39;00m)\n\u001b[1;32m     60\u001b[0m descriptions \u001b[39m=\u001b[39m kwargs\u001b[39m.\u001b[39mpop(\u001b[39m'\u001b[39m\u001b[39mdescriptions\u001b[39m\u001b[39m'\u001b[39m, \u001b[39mNone\u001b[39;00m)\n\u001b[0;32m---> 62\u001b[0m out \u001b[39m=\u001b[39m \u001b[39mself\u001b[39;49m\u001b[39m.\u001b[39;49mregistry\u001b[39m.\u001b[39;49mread(\u001b[39mcls\u001b[39;49m, \u001b[39m*\u001b[39;49margs, \u001b[39m*\u001b[39;49m\u001b[39m*\u001b[39;49mkwargs)\n\u001b[1;32m     64\u001b[0m \u001b[39m# For some readers (e.g., ascii.ecsv), the returned `out` class is not\u001b[39;00m\n\u001b[1;32m     65\u001b[0m \u001b[39m# guaranteed to be the same as the desired output `cls`.  If so,\u001b[39;00m\n\u001b[1;32m     66\u001b[0m \u001b[39m# try coercing to desired class without copying (io.registry.read\u001b[39;00m\n\u001b[1;32m     67\u001b[0m \u001b[39m# would normally do a copy).  The normal case here is swapping\u001b[39;00m\n\u001b[1;32m     68\u001b[0m \u001b[39m# Table <=> QTable.\u001b[39;00m\n\u001b[1;32m     69\u001b[0m \u001b[39mif\u001b[39;00m \u001b[39mcls\u001b[39m \u001b[39mis\u001b[39;00m \u001b[39mnot\u001b[39;00m out\u001b[39m.\u001b[39m\u001b[39m__class__\u001b[39m:\n",
      "File \u001b[0;32m~/anaconda3/envs/brezi-env/lib/python3.10/site-packages/astropy/io/registry/core.py:212\u001b[0m, in \u001b[0;36mUnifiedInputRegistry.read\u001b[0;34m(self, cls, format, cache, *args, **kwargs)\u001b[0m\n\u001b[1;32m    208\u001b[0m     \u001b[39mformat\u001b[39m \u001b[39m=\u001b[39m \u001b[39mself\u001b[39m\u001b[39m.\u001b[39m_get_valid_format(\n\u001b[1;32m    209\u001b[0m         \u001b[39m'\u001b[39m\u001b[39mread\u001b[39m\u001b[39m'\u001b[39m, \u001b[39mcls\u001b[39m, path, fileobj, args, kwargs)\n\u001b[1;32m    211\u001b[0m reader \u001b[39m=\u001b[39m \u001b[39mself\u001b[39m\u001b[39m.\u001b[39mget_reader(\u001b[39mformat\u001b[39m, \u001b[39mcls\u001b[39m)\n\u001b[0;32m--> 212\u001b[0m data \u001b[39m=\u001b[39m reader(\u001b[39m*\u001b[39;49margs, \u001b[39m*\u001b[39;49m\u001b[39m*\u001b[39;49mkwargs)\n\u001b[1;32m    214\u001b[0m \u001b[39mif\u001b[39;00m \u001b[39mnot\u001b[39;00m \u001b[39misinstance\u001b[39m(data, \u001b[39mcls\u001b[39m):\n\u001b[1;32m    215\u001b[0m     \u001b[39m# User has read with a subclass where only the parent class is\u001b[39;00m\n\u001b[1;32m    216\u001b[0m     \u001b[39m# registered.  This returns the parent class, so try coercing\u001b[39;00m\n\u001b[1;32m    217\u001b[0m     \u001b[39m# to desired subclass.\u001b[39;00m\n\u001b[1;32m    218\u001b[0m     \u001b[39mtry\u001b[39;00m:\n",
      "File \u001b[0;32m~/anaconda3/envs/brezi-env/lib/python3.10/site-packages/astropy/io/fits/connect.py:234\u001b[0m, in \u001b[0;36mread_table_fits\u001b[0;34m(input, hdu, astropy_native, memmap, character_as_bytes, unit_parse_strict, mask_invalid)\u001b[0m\n\u001b[1;32m    230\u001b[0m hdulist \u001b[39m=\u001b[39m fits_open(\u001b[39minput\u001b[39m, character_as_bytes\u001b[39m=\u001b[39mcharacter_as_bytes,\n\u001b[1;32m    231\u001b[0m                     memmap\u001b[39m=\u001b[39mmemmap)\n\u001b[1;32m    233\u001b[0m \u001b[39mtry\u001b[39;00m:\n\u001b[0;32m--> 234\u001b[0m     \u001b[39mreturn\u001b[39;00m read_table_fits(\n\u001b[1;32m    235\u001b[0m         hdulist, hdu\u001b[39m=\u001b[39;49mhdu,\n\u001b[1;32m    236\u001b[0m         astropy_native\u001b[39m=\u001b[39;49mastropy_native,\n\u001b[1;32m    237\u001b[0m         unit_parse_strict\u001b[39m=\u001b[39;49munit_parse_strict,\n\u001b[1;32m    238\u001b[0m         mask_invalid\u001b[39m=\u001b[39;49mmask_invalid,\n\u001b[1;32m    239\u001b[0m     )\n\u001b[1;32m    240\u001b[0m \u001b[39mfinally\u001b[39;00m:\n\u001b[1;32m    241\u001b[0m     hdulist\u001b[39m.\u001b[39mclose()\n",
      "File \u001b[0;32m~/anaconda3/envs/brezi-env/lib/python3.10/site-packages/astropy/io/fits/connect.py:217\u001b[0m, in \u001b[0;36mread_table_fits\u001b[0;34m(input, hdu, astropy_native, memmap, character_as_bytes, unit_parse_strict, mask_invalid)\u001b[0m\n\u001b[1;32m    214\u001b[0m         table \u001b[39m=\u001b[39m tables[first(tables)]\n\u001b[1;32m    216\u001b[0m     \u001b[39melse\u001b[39;00m:\n\u001b[0;32m--> 217\u001b[0m         \u001b[39mraise\u001b[39;00m \u001b[39mValueError\u001b[39;00m(\u001b[39m\"\u001b[39m\u001b[39mNo table found\u001b[39m\u001b[39m\"\u001b[39m)\n\u001b[1;32m    219\u001b[0m \u001b[39melif\u001b[39;00m \u001b[39misinstance\u001b[39m(\u001b[39minput\u001b[39m, (TableHDU, BinTableHDU, GroupsHDU)):\n\u001b[1;32m    221\u001b[0m     table \u001b[39m=\u001b[39m \u001b[39minput\u001b[39m\n",
      "\u001b[0;31mValueError\u001b[0m: No table found"
     ]
    }
   ],
   "source": [
    "from specutils import Spectrum1D\n",
    "\n",
    "spec1d = Spectrum1D.read(\"./gCas-extr.fits\", format=\"tabular-fits\")"
   ]
  }
 ],
 "metadata": {
  "kernelspec": {
   "display_name": "Python 3.10.5 ('brezi-env')",
   "language": "python",
   "name": "python3"
  },
  "language_info": {
   "codemirror_mode": {
    "name": "ipython",
    "version": 3
   },
   "file_extension": ".py",
   "mimetype": "text/x-python",
   "name": "python",
   "nbconvert_exporter": "python",
   "pygments_lexer": "ipython3",
   "version": "3.10.5"
  },
  "orig_nbformat": 4,
  "vscode": {
   "interpreter": {
    "hash": "0b1e4489af18395342b95bf162210a8bc6f6c21b74db0d398c9090ead8928cb9"
   }
  }
 },
 "nbformat": 4,
 "nbformat_minor": 2
}
